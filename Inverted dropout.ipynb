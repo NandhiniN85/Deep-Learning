{
 "cells": [
  {
   "cell_type": "code",
   "execution_count": 21,
   "metadata": {},
   "outputs": [],
   "source": [
    "import pandas as pd\n",
    "import numpy as np\n",
    "from sklearn.datasets import load_iris\n",
    "from sklearn.model_selection import train_test_split\n",
    "from sklearn.metrics import accuracy_score"
   ]
  },
  {
   "cell_type": "code",
   "execution_count": 22,
   "metadata": {},
   "outputs": [],
   "source": [
    "iris_df = load_iris()"
   ]
  },
  {
   "cell_type": "code",
   "execution_count": 23,
   "metadata": {},
   "outputs": [],
   "source": [
    "dataframe = pd.DataFrame(iris_df['data'])"
   ]
  },
  {
   "cell_type": "code",
   "execution_count": 24,
   "metadata": {},
   "outputs": [],
   "source": [
    "dataframe['output'] = iris_df['target']\n"
   ]
  },
  {
   "cell_type": "code",
   "execution_count": 25,
   "metadata": {},
   "outputs": [],
   "source": [
    "dataframe = dataframe[dataframe['output'].isin([0,1])]"
   ]
  },
  {
   "cell_type": "code",
   "execution_count": 26,
   "metadata": {},
   "outputs": [
    {
     "data": {
      "text/plain": [
       "1    50\n",
       "0    50\n",
       "Name: output, dtype: int64"
      ]
     },
     "execution_count": 26,
     "metadata": {},
     "output_type": "execute_result"
    }
   ],
   "source": [
    "dataframe['output'].value_counts()"
   ]
  },
  {
   "cell_type": "code",
   "execution_count": 27,
   "metadata": {},
   "outputs": [],
   "source": [
    "X = dataframe.drop('output', axis=1)\n",
    "y = dataframe['output']"
   ]
  },
  {
   "cell_type": "code",
   "execution_count": 28,
   "metadata": {},
   "outputs": [],
   "source": [
    "train_x, test_x, train_y, test_y = train_test_split(X,y, test_size = 0.3, random_state =1)"
   ]
  },
  {
   "cell_type": "code",
   "execution_count": 29,
   "metadata": {},
   "outputs": [],
   "source": [
    "train_x = np.array(train_x.T)\n",
    "train_y = np.array(train_y).reshape(1,train_y.shape[0])\n",
    "test_x = np.array(test_x.T)\n",
    "test_y = np.array(test_y).reshape(1, test_y.shape[0])"
   ]
  },
  {
   "cell_type": "code",
   "execution_count": 30,
   "metadata": {},
   "outputs": [],
   "source": [
    "#initialize parameters based on the number of hidden layers\n",
    "def intialize_parameters(layer_dims):\n",
    "    np.random.seed(1)\n",
    "    L = layer_dims\n",
    "    l = len(layer_dims)\n",
    "    parameters = {}\n",
    "    for i in range(1, l):\n",
    "        #The randomly assigned weights are multiplied by np.sqrt(2/previous layer dimension)\n",
    "        weight = np.random.randn(L[i],L[i-1]) * np.sqrt(2/L[i-1])\n",
    "#         * (np.sqrt(2/L[i-1]))\n",
    "        bias = np.zeros([L[i],1]) \n",
    "        parameters['W' + str(i)] = weight\n",
    "        parameters['b' + str(i)] = bias\n",
    "    return parameters    "
   ]
  },
  {
   "cell_type": "code",
   "execution_count": 31,
   "metadata": {},
   "outputs": [],
   "source": [
    "#for feed_forward process, the relu activation is used for all hidden layers\n",
    "#for the final layer, sigmoid activation function is used\n",
    "def feed_forward(parameters, train_x, layer_dims,keep_probs):\n",
    "    l = len(layer_dims)\n",
    "    Aprev = train_x    \n",
    "    #The order of the data stored in cache is A,W,b\n",
    "    caches = []\n",
    "    \n",
    "    #calculate the feed forward process for all the layers except last layer\n",
    "    for i in range(1,l-1):\n",
    "        weight = parameters['W' + str(i)]\n",
    "        bias   = parameters['b' + str(i)]\n",
    "        z = np.dot(weight, Aprev) + bias\n",
    "        Aprev = np.maximum(z,0)\n",
    "        drop = np.random.rand(Aprev.shape[0],Aprev.shape[1])\n",
    "        drop = (drop < keep_probs).astype(int)\n",
    "        Aprev = np.multiply(Aprev, drop)\n",
    "        Aprev = np.divide(Aprev,keep_probs)\n",
    "        cache = Aprev, weight, bias,drop\n",
    "        caches.append(cache) \n",
    "        \n",
    "    #calculate the feed forward process for the last layer\n",
    "    weight = parameters['W' + str(l-1)]\n",
    "    bias   = parameters['b' + str(l-1)]\n",
    "    \n",
    "    z = np.dot(weight, Aprev) + bias\n",
    "    Aprev = 1/(1 + np.exp(-z))\n",
    "    final_output = Aprev\n",
    "    cache = Aprev, weight, bias,drop\n",
    "    caches.append(cache)  \n",
    "    return(caches, final_output)"
   ]
  },
  {
   "cell_type": "code",
   "execution_count": 32,
   "metadata": {},
   "outputs": [],
   "source": [
    "#calculate the cost using log error function\n",
    "def calculate_cost(final_output, train_y):\n",
    "    m = train_y.shape[1]\n",
    "    cost = -(np.dot(train_y, np.log(final_output).T) +\n",
    "             np.dot((1 - train_y), np.log(1-final_output).T)) /m\n",
    "    return cost"
   ]
  },
  {
   "cell_type": "code",
   "execution_count": 33,
   "metadata": {},
   "outputs": [],
   "source": [
    "def backpropagation(caches, layer_dims, train_x, train_y, final_output,parameters, learning_rate,keep_probs):\n",
    "    \n",
    "    l = len(layer_dims) - 1\n",
    "    m = train_y.shape[1]\n",
    "    \n",
    "    #calculate the backpropagation for last layer seperaterly\n",
    "    Acurr,Wcurr,bcurr,dcurr = caches[l-1]\n",
    "    Aprev,Wprev,bprev,dprev = caches[l-2]    \n",
    "    dz = (final_output - train_y)\n",
    "    dw = np.dot(dz,Aprev.T)/m\n",
    "    db = np.sum(dz,keepdims=True,axis = 1)/m\n",
    "    parameters['W' + str(l)] -= learning_rate * dw\n",
    "    parameters['b' + str(l)] -= learning_rate * db    \n",
    "    dzprev = dz\n",
    "    \n",
    "    #calculate backpropagation for the remaining hidden layers\n",
    "    for i in reversed(range(l-1)):\n",
    "        \n",
    "        Anext,Wnext,bnext,dnext = caches[i+1]\n",
    "        Acurr,Wcurr,bcurr,dcurr = caches[i]\n",
    "                \n",
    "        if i == 0:\n",
    "            Aprev = train_x\n",
    "        else:\n",
    "            Aprev,Wprev,bprev,dprev = caches[i-1]  \n",
    "        \n",
    "        dzcurr =  np.where(Acurr > 0, 1, Acurr)   \n",
    "        da = np.dot(Wnext.T, dzprev)\n",
    "        da = da * dcurr\n",
    "        da = da / keep_probs\n",
    "        dz = dzcurr * da\n",
    "        dw = np.dot(dz,Aprev.T)/m\n",
    "        db = np.sum(dz,keepdims = True, axis =1)/m\n",
    "        parameters['W' + str(i+1)] -= learning_rate * dw\n",
    "        parameters['b' + str(i+1)] -= learning_rate * db\n",
    "        dzprev = dz\n",
    "    return parameters"
   ]
  },
  {
   "cell_type": "code",
   "execution_count": 34,
   "metadata": {},
   "outputs": [],
   "source": [
    "def deep_neural_model(layer_dims,train_x,train_y,iteration,learning_rate,keep_probs):\n",
    "    #intialization of the parameters such as weights and bias\n",
    "    parameters = intialize_parameters(layer_dims)\n",
    "    \n",
    "    for i in range(iteration):\n",
    "        #calculate the activation function values for each layer\n",
    "        caches, final_output = feed_forward(parameters, train_x, layer_dims,keep_probs)\n",
    "            \n",
    "        #calculate the cost\n",
    "        cost = calculate_cost(final_output, train_y) \n",
    "        if i%1000 == 0:\n",
    "            print('The cost of iteration {} is: {}'.format(i, np.squeeze(cost)))\n",
    "    \n",
    "        #calcualte the backpropagation\n",
    "        parameters = backpropagation(caches, layer_dims, train_x,train_y, final_output,parameters,learning_rate,keep_probs)           \n",
    "    return parameters    "
   ]
  },
  {
   "cell_type": "code",
   "execution_count": 35,
   "metadata": {},
   "outputs": [
    {
     "name": "stdout",
     "output_type": "stream",
     "text": [
      "The cost of iteration 0 is: 1.4634168605933904\n",
      "The cost of iteration 1000 is: 0.43630193165092296\n",
      "The cost of iteration 2000 is: 0.2615794012937735\n",
      "The cost of iteration 3000 is: 0.221025508214681\n",
      "The cost of iteration 4000 is: 0.21233365880086333\n",
      "The cost of iteration 5000 is: 0.1322389902594298\n",
      "The cost of iteration 6000 is: 0.11842787880563288\n",
      "The cost of iteration 7000 is: 0.13547109614400168\n",
      "The cost of iteration 8000 is: 0.08377178600533916\n",
      "The cost of iteration 9000 is: 0.10235635722662778\n",
      "The cost of iteration 10000 is: 0.10115806692156314\n",
      "The cost of iteration 11000 is: 0.09141450320281655\n",
      "The cost of iteration 12000 is: 0.10238646772024368\n",
      "The cost of iteration 13000 is: 0.05456101167151232\n",
      "The cost of iteration 14000 is: 0.06789361618041652\n"
     ]
    }
   ],
   "source": [
    "layer_dims = [4,4,1]\n",
    "iteration = 14900\n",
    "learning_rate = 0.001\n",
    "keep_probs = 0.8\n",
    "parameters = deep_neural_model(layer_dims, train_x, train_y, iteration, learning_rate,keep_probs)"
   ]
  },
  {
   "cell_type": "code",
   "execution_count": 36,
   "metadata": {},
   "outputs": [],
   "source": [
    "#create a predict method which actually estimate the outcome based on the parameters\n",
    "def predict_target(test_x, parameters,layer_dims):\n",
    "    l = len(layer_dims)\n",
    "    Aprev = test_x    \n",
    "        \n",
    "    #calculate the feed forward process for all the layers except last layer\n",
    "    for i in range(1,l-1):\n",
    "        weight = parameters['W' + str(i)]\n",
    "        bias   = parameters['b' + str(i)]\n",
    "        z = np.dot(weight, Aprev) + bias\n",
    "        Aprev = np.maximum(z,0)        \n",
    "        \n",
    "    #calculate the feed forward process for the last layer\n",
    "    weight = parameters['W' + str(l-1)]\n",
    "    bias   = parameters['b' + str(l-1)]\n",
    "    \n",
    "    z = np.dot(weight, Aprev) + bias\n",
    "    final_output = 1/(1 + np.exp(-z))  \n",
    "    final_output =  (final_output > 0.5) * 1\n",
    "    return(final_output)    "
   ]
  },
  {
   "cell_type": "code",
   "execution_count": 37,
   "metadata": {},
   "outputs": [],
   "source": [
    "y_predict = predict_target(train_x, parameters,layer_dims)"
   ]
  },
  {
   "cell_type": "code",
   "execution_count": 38,
   "metadata": {},
   "outputs": [
    {
     "name": "stdout",
     "output_type": "stream",
     "text": [
      "[[1 1 1 1 1 0 0 1 0 0 1 1 1 0 1 0 0 1 0 1 0 1 0 0 1 0 0 1 0 1 0 1 1 0 0 1\n",
      "  0 1 0 1 1 0 1 1 0 1 0 1 1 0 0 0 0 0 0 1 0 0 1 1 0 0 1 1 0 1 0 1 0 0]]\n"
     ]
    }
   ],
   "source": [
    "print(y_predict)"
   ]
  },
  {
   "cell_type": "code",
   "execution_count": 39,
   "metadata": {},
   "outputs": [
    {
     "data": {
      "text/plain": [
       "1.0"
      ]
     },
     "execution_count": 39,
     "metadata": {},
     "output_type": "execute_result"
    }
   ],
   "source": [
    "accuracy_score(y_predict, train_y)"
   ]
  },
  {
   "cell_type": "code",
   "execution_count": null,
   "metadata": {},
   "outputs": [],
   "source": []
  }
 ],
 "metadata": {
  "kernelspec": {
   "display_name": "Python 3",
   "language": "python",
   "name": "python3"
  },
  "language_info": {
   "codemirror_mode": {
    "name": "ipython",
    "version": 3
   },
   "file_extension": ".py",
   "mimetype": "text/x-python",
   "name": "python",
   "nbconvert_exporter": "python",
   "pygments_lexer": "ipython3",
   "version": "3.7.6"
  }
 },
 "nbformat": 4,
 "nbformat_minor": 2
}
