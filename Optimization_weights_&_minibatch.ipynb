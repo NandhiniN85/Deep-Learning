{
 "cells": [
  {
   "cell_type": "code",
   "execution_count": 2,
   "metadata": {
    "id": "tnWaNZiRJDom"
   },
   "outputs": [
    {
     "name": "stderr",
     "output_type": "stream",
     "text": [
      "Using TensorFlow backend.\n"
     ]
    }
   ],
   "source": [
    "from sklearn.datasets import load_iris\n",
    "import pandas as pd\n",
    "import numpy as np\n",
    "from sklearn.model_selection import train_test_split\n",
    "\n",
    "from keras.models import Sequential\n",
    "from keras.layers import Activation, Dense\n",
    "from keras import optimizers\n",
    "from keras.layers import Dropout"
   ]
  },
  {
   "cell_type": "code",
   "execution_count": 3,
   "metadata": {
    "id": "dO1VcmwDJKC_"
   },
   "outputs": [],
   "source": [
    "iris = load_iris()"
   ]
  },
  {
   "cell_type": "code",
   "execution_count": 4,
   "metadata": {
    "colab": {
     "base_uri": "https://localhost:8080/"
    },
    "id": "_Habv7jaJM_v",
    "outputId": "bcfd8a71-0164-42e6-f479-c9561757bb0d"
   },
   "outputs": [
    {
     "data": {
      "text/plain": [
       "dict_keys(['data', 'target', 'frame', 'target_names', 'DESCR', 'feature_names', 'filename'])"
      ]
     },
     "execution_count": 4,
     "metadata": {},
     "output_type": "execute_result"
    }
   ],
   "source": [
    "iris.keys()"
   ]
  },
  {
   "cell_type": "code",
   "execution_count": 5,
   "metadata": {
    "id": "W5JiD4kIJRi7"
   },
   "outputs": [],
   "source": [
    "data = pd.DataFrame(iris['data'], columns = iris['feature_names'] )\n",
    "target = pd.DataFrame(iris['target'],columns = ['target'])"
   ]
  },
  {
   "cell_type": "code",
   "execution_count": 6,
   "metadata": {
    "id": "HyASeuuWJTq2"
   },
   "outputs": [],
   "source": [
    "#combine the input predictors and target so that it can be split into training and testing\n",
    "data_target = data.join(target)"
   ]
  },
  {
   "cell_type": "code",
   "execution_count": 7,
   "metadata": {
    "colab": {
     "base_uri": "https://localhost:8080/",
     "height": 202
    },
    "id": "sYYdmyWTJVtE",
    "outputId": "01531904-0830-4a55-8696-47611334f639"
   },
   "outputs": [
    {
     "data": {
      "text/html": [
       "<div>\n",
       "<style scoped>\n",
       "    .dataframe tbody tr th:only-of-type {\n",
       "        vertical-align: middle;\n",
       "    }\n",
       "\n",
       "    .dataframe tbody tr th {\n",
       "        vertical-align: top;\n",
       "    }\n",
       "\n",
       "    .dataframe thead th {\n",
       "        text-align: right;\n",
       "    }\n",
       "</style>\n",
       "<table border=\"1\" class=\"dataframe\">\n",
       "  <thead>\n",
       "    <tr style=\"text-align: right;\">\n",
       "      <th></th>\n",
       "      <th>sepal length (cm)</th>\n",
       "      <th>sepal width (cm)</th>\n",
       "      <th>petal length (cm)</th>\n",
       "      <th>petal width (cm)</th>\n",
       "      <th>target</th>\n",
       "    </tr>\n",
       "  </thead>\n",
       "  <tbody>\n",
       "    <tr>\n",
       "      <th>0</th>\n",
       "      <td>5.1</td>\n",
       "      <td>3.5</td>\n",
       "      <td>1.4</td>\n",
       "      <td>0.2</td>\n",
       "      <td>0</td>\n",
       "    </tr>\n",
       "    <tr>\n",
       "      <th>1</th>\n",
       "      <td>4.9</td>\n",
       "      <td>3.0</td>\n",
       "      <td>1.4</td>\n",
       "      <td>0.2</td>\n",
       "      <td>0</td>\n",
       "    </tr>\n",
       "    <tr>\n",
       "      <th>2</th>\n",
       "      <td>4.7</td>\n",
       "      <td>3.2</td>\n",
       "      <td>1.3</td>\n",
       "      <td>0.2</td>\n",
       "      <td>0</td>\n",
       "    </tr>\n",
       "    <tr>\n",
       "      <th>3</th>\n",
       "      <td>4.6</td>\n",
       "      <td>3.1</td>\n",
       "      <td>1.5</td>\n",
       "      <td>0.2</td>\n",
       "      <td>0</td>\n",
       "    </tr>\n",
       "    <tr>\n",
       "      <th>4</th>\n",
       "      <td>5.0</td>\n",
       "      <td>3.6</td>\n",
       "      <td>1.4</td>\n",
       "      <td>0.2</td>\n",
       "      <td>0</td>\n",
       "    </tr>\n",
       "  </tbody>\n",
       "</table>\n",
       "</div>"
      ],
      "text/plain": [
       "   sepal length (cm)  sepal width (cm)  petal length (cm)  petal width (cm)  \\\n",
       "0                5.1               3.5                1.4               0.2   \n",
       "1                4.9               3.0                1.4               0.2   \n",
       "2                4.7               3.2                1.3               0.2   \n",
       "3                4.6               3.1                1.5               0.2   \n",
       "4                5.0               3.6                1.4               0.2   \n",
       "\n",
       "   target  \n",
       "0       0  \n",
       "1       0  \n",
       "2       0  \n",
       "3       0  \n",
       "4       0  "
      ]
     },
     "execution_count": 7,
     "metadata": {},
     "output_type": "execute_result"
    }
   ],
   "source": [
    "data_target.head()"
   ]
  },
  {
   "cell_type": "code",
   "execution_count": 8,
   "metadata": {
    "colab": {
     "base_uri": "https://localhost:8080/"
    },
    "id": "VcK2hT91JXAs",
    "outputId": "3c18d3c1-0b79-41bb-f978-0e48027e965b"
   },
   "outputs": [
    {
     "data": {
      "text/plain": [
       "2    50\n",
       "1    50\n",
       "0    50\n",
       "Name: target, dtype: int64"
      ]
     },
     "execution_count": 8,
     "metadata": {},
     "output_type": "execute_result"
    }
   ],
   "source": [
    "data_target['target'].value_counts()"
   ]
  },
  {
   "cell_type": "code",
   "execution_count": 9,
   "metadata": {
    "id": "36ErKb9LJYj_"
   },
   "outputs": [],
   "source": [
    "#for this implementaion, let's make the problem a binary. So considering only '0' and '1' as the target\n",
    "X = np.array(data_target[(data_target['target'] == 0) | (data_target['target'] == 1)].drop('target', axis=1))\n",
    "y = np.array(data_target[(data_target['target'] == 0) | (data_target['target'] == 1)]['target']).reshape(100,1)"
   ]
  },
  {
   "cell_type": "code",
   "execution_count": 10,
   "metadata": {
    "colab": {
     "base_uri": "https://localhost:8080/"
    },
    "id": "cZgUoce-Jaeh",
    "outputId": "3f596de3-1922-4dd2-c23c-369fc3d3c9c8"
   },
   "outputs": [
    {
     "name": "stdout",
     "output_type": "stream",
     "text": [
      "Shape of train_x: (80, 4)\n",
      "Shape of train_y: (80, 1)\n",
      "Shape of test_x: (20, 4)\n",
      "Shape of test_y: (20, 1)\n"
     ]
    }
   ],
   "source": [
    "train_x,test_x,train_y,test_y = train_test_split(X,y,test_size = 0.2)\n",
    "\n",
    "print('Shape of train_x:', train_x.shape)\n",
    "print('Shape of train_y:', train_y.shape)\n",
    "print('Shape of test_x:', test_x.shape)\n",
    "print('Shape of test_y:', test_y.shape)"
   ]
  },
  {
   "cell_type": "markdown",
   "metadata": {
    "id": "VBVKIcDKJgwN"
   },
   "source": [
    "Splitting the data into 9 mini batches"
   ]
  },
  {
   "cell_type": "code",
   "execution_count": 11,
   "metadata": {
    "id": "Ks9WaZ_6JeT7"
   },
   "outputs": [],
   "source": [
    "batches = 9\n",
    "\n",
    "#get the total number of batches\n",
    "batch_count = train_x.shape[0] // batches\n",
    "\n",
    "batch_trainx = []\n",
    "batch_trainy = []\n",
    "\n",
    "for i in range(0, batch_count):\n",
    "  begin = i * batches\n",
    "  end = (i + 1) * batches\n",
    "\n",
    "  batch_trainx.append(train_x[begin:end])\n",
    "  batch_trainy.append(train_y[begin:end])\n",
    "\n",
    "#when the total count is not exactly divisible by batches\n",
    "left_out = train_x.shape[0] % batches\n",
    "\n",
    "if left_out != 0:\n",
    "  batch_trainx.append(train_x[end: end + left_out])\n",
    "  batch_trainy.append(train_y[end: end + left_out])"
   ]
  },
  {
   "cell_type": "code",
   "execution_count": 12,
   "metadata": {
    "id": "jTtmRF80Ji0y"
   },
   "outputs": [],
   "source": [
    "# intializing the weights for each layer\n",
    "def intialize_weights(layer_dims):\n",
    "    np.random.seed(3)\n",
    "    parameters = {}\n",
    "    L = len(layer_dims)\n",
    "    \n",
    "    #initialise the value of weights based on the number of layers\n",
    "    for i in range(1,L-1):\n",
    "        #for the hidden layers we will use He initialisation because of relu activation\n",
    "        parameters['W'+str(i)] = np.random.randn(layer_dims[i-1],layer_dims[i]) * np.sqrt(2/layer_dims[i-1])\n",
    "        parameters['b'+str(i)] = np.zeros([1, layer_dims[i]])   \n",
    "            \n",
    "    #for the last layer we can use Xavier initialisation \n",
    "    parameters['W' + str(i+1)] = np.random.randn(layer_dims[i],layer_dims[i+1]) * np.sqrt(1/layer_dims[i])\n",
    "    parameters['b'+str(i+1)] = np.zeros([1, layer_dims[i+1]])    \n",
    "    \n",
    "    return parameters"
   ]
  },
  {
   "cell_type": "code",
   "execution_count": 13,
   "metadata": {
    "id": "LzhbJjLSJmH3"
   },
   "outputs": [],
   "source": [
    "#forward propagation\n",
    "def forward_propagation(layer_dims,train_x,parameters, keep_probs,mode):\n",
    "    \n",
    "    caches = []\n",
    "    Aprev = train_x\n",
    "    L = len(layer_dims)\n",
    "    \n",
    "    #forward propagation for all the layers except last layer\n",
    "    for i in range(1,L-1): \n",
    "        W = parameters['W'+ str(i)]\n",
    "        b = parameters['b' + str(i)] \n",
    "        Z = np.dot(Aprev, W) + b  \n",
    "        Aprev = np.maximum(0,Z)       \n",
    "        cache = Aprev, W, b\n",
    "        caches.append(cache)     \n",
    "    \n",
    "    #forward propagation for the last layer\n",
    "    W = parameters['W'+ str(L-1)]\n",
    "    b = parameters['b' + str(L-1)]\n",
    "    Zlast = np.dot(Aprev, W) + b    \n",
    "    Alast = 1/(1 + np.exp(-Zlast))   \n",
    "    cache = Alast, W, b\n",
    "\n",
    "    caches.append(cache)\n",
    "    return caches"
   ]
  },
  {
   "cell_type": "code",
   "execution_count": 14,
   "metadata": {
    "id": "rcFUq25KJ1tB"
   },
   "outputs": [],
   "source": [
    "#cost function calculation\n",
    "def cost_calculate(predict_y,train_y):\n",
    "    m = train_y.shape[0]\n",
    "    cost = -(np.dot(train_y.T, np.log(predict_y)) + np.dot((1-train_y).T, np.log(1-predict_y)))/m\n",
    "    return cost"
   ]
  },
  {
   "cell_type": "code",
   "execution_count": 15,
   "metadata": {
    "id": "UwTeuomaJ6gK"
   },
   "outputs": [],
   "source": [
    "def backward_propagation(layer_dims, caches, parameters, train_x, train_y, learning_rate):\n",
    "    #backward propagation for the last layer\n",
    "    #Extract the last array from the caches, as this corresponds to the final output\n",
    "    L = len(caches)    \n",
    "    Acurr,Wcurr,bcurr = caches[L - 1]  \n",
    "    Aprev,Wprev,bprev = caches[L - 2]\n",
    "\n",
    "    m = train_y.shape[0]   \n",
    "    \n",
    "    dzprev = (Acurr - train_y)    \n",
    "    dwlast = np.dot(Aprev.T, dzprev)/m    \n",
    "    dblast = np.sum(dzprev, keepdims = True, axis = 0)/m        \n",
    "    parameters['W' + str(L)]= parameters['W' + str(L)] - (learning_rate * dwlast)    \n",
    "    parameters['b' + str(L)]= parameters['b' + str(L)] - (learning_rate * dblast)   \n",
    "            \n",
    "    for i in reversed(range(L-1)):\n",
    "        Anext,Wnext,bnext = caches[i+1]\n",
    "        Acurr,Wcurr,bcurr = caches[i]  \n",
    "        if i == 0:\n",
    "            Aprev = train_x\n",
    "        else:            \n",
    "            Aprev,Wprev,bprev = caches[i-1]\n",
    "                \n",
    "        dzcurr = np.where(Acurr > 0,1,Acurr)                     \n",
    "        dzprev = np.multiply(np.dot(dzprev,Wnext.T), dzcurr)\n",
    "        \n",
    "        dW = np.dot(Aprev.T,dzprev)/m\n",
    "        db = np.sum(dzprev, keepdims = True, axis = 0)/m  \n",
    "        parameters['W' + str(i+1)]= parameters['W' + str(i+1)] - (learning_rate * dW)\n",
    "        parameters['b' + str(i+1)]= parameters['b' + str(i+1)] - (learning_rate * db)     \n",
    "    return parameters"
   ]
  },
  {
   "cell_type": "code",
   "execution_count": 16,
   "metadata": {
    "id": "0CdrK6ajKUCt"
   },
   "outputs": [],
   "source": [
    "def complete_model(layer_dims, train_x, train_y, learning_rate, iterations, keep_probs,mode):\n",
    "    \n",
    "    L = len(layer_dims)\n",
    "    # Intialize the weights\n",
    "    parameters = intialize_weights(layer_dims)\n",
    "    \n",
    "    for i in range(iterations):\n",
    "      for j in range(len(batch_trainx)):\n",
    "        #forward propagation\n",
    "        caches = forward_propagation(layer_dims,batch_trainx[j],parameters, keep_probs,mode)\n",
    "        \n",
    "        #calculate the cost \n",
    "        A,W,b = caches[-1]\n",
    "        cost = cost_calculate(A,batch_trainy[j])\n",
    "        if i%1000 == 0:\n",
    "            print('The cost after iteration {}: {}'.format(i, np.squeeze(cost)))\n",
    "        #backward propagation\n",
    "        parameters = backward_propagation(layer_dims, caches, parameters,batch_trainx[j], batch_trainy[j], learning_rate)\n",
    "\n",
    "    return parameters"
   ]
  },
  {
   "cell_type": "code",
   "execution_count": 17,
   "metadata": {
    "colab": {
     "base_uri": "https://localhost:8080/"
    },
    "id": "mwC_7KL0KYe7",
    "outputId": "337aedfd-53e3-49f9-eb34-698e795288a2"
   },
   "outputs": [
    {
     "name": "stdout",
     "output_type": "stream",
     "text": [
      "The cost after iteration 0: 0.5839352474264067\n",
      "The cost after iteration 0: 0.4719124505215741\n",
      "The cost after iteration 0: 0.2854791426219735\n",
      "The cost after iteration 0: 0.6224681209135416\n",
      "The cost after iteration 0: 0.863132570995917\n",
      "The cost after iteration 0: 0.6309125527327342\n",
      "The cost after iteration 0: 0.6419313908458799\n",
      "The cost after iteration 0: 0.44013530353132524\n",
      "The cost after iteration 0: 0.2251553689249357\n",
      "The cost after iteration 1000: 0.0008793969217154138\n",
      "The cost after iteration 1000: 0.0005265472251562904\n",
      "The cost after iteration 1000: 0.00040679250785493546\n",
      "The cost after iteration 1000: 0.0010473470865254289\n",
      "The cost after iteration 1000: 0.0012228561852772352\n",
      "The cost after iteration 1000: 0.0008854393215393754\n",
      "The cost after iteration 1000: 0.0010490896129922718\n",
      "The cost after iteration 1000: 0.0006979005406347116\n",
      "The cost after iteration 1000: 0.00020113218566321982\n",
      "The cost after iteration 2000: 0.0004365454239258697\n",
      "The cost after iteration 2000: 0.0002614658214880072\n",
      "The cost after iteration 2000: 0.00020021586772721789\n",
      "The cost after iteration 2000: 0.0005208370163198483\n",
      "The cost after iteration 2000: 0.0006080206118220727\n",
      "The cost after iteration 2000: 0.0004396268229108067\n",
      "The cost after iteration 2000: 0.0005215434047271725\n",
      "The cost after iteration 2000: 0.00034714499260470283\n",
      "The cost after iteration 2000: 9.943578546323124e-05\n",
      "The cost after iteration 3000: 0.00029020049749995216\n",
      "The cost after iteration 3000: 0.0001738096163763053\n",
      "The cost after iteration 3000: 0.00013263916401472199\n",
      "The cost after iteration 3000: 0.00034643896340956753\n",
      "The cost after iteration 3000: 0.0004043985658843513\n",
      "The cost after iteration 3000: 0.00029220666824910453\n",
      "The cost after iteration 3000: 0.00034685397288525743\n",
      "The cost after iteration 3000: 0.0002309247584244857\n",
      "The cost after iteration 3000: 6.597216192215205e-05\n",
      "The cost after iteration 4000: 0.0002173755282705262\n",
      "The cost after iteration 4000: 0.00013013644865374086\n",
      "The cost after iteration 4000: 9.903539285712079e-05\n",
      "The cost after iteration 4000: 0.0002594881935593482\n",
      "The cost after iteration 4000: 0.00030288479837358475\n",
      "The cost after iteration 4000: 0.00021875022161876986\n",
      "The cost after iteration 4000: 0.0002597701683442336\n",
      "The cost after iteration 4000: 0.0001729729942811526\n",
      "The cost after iteration 4000: 4.933442973736668e-05\n"
     ]
    }
   ],
   "source": [
    "layer_dims = [4,5,3,1]\n",
    "learning_rate = 0.15\n",
    "iterations = 5000\n",
    "keep_probs = 0.8\n",
    "mode = 'train'\n",
    "parameters = complete_model(layer_dims, train_x, train_y, learning_rate, iterations, keep_probs, mode)"
   ]
  },
  {
   "cell_type": "code",
   "execution_count": 98,
   "metadata": {
    "id": "PEZw-e3RKa0g"
   },
   "outputs": [],
   "source": []
  }
 ],
 "metadata": {
  "accelerator": "GPU",
  "colab": {
   "name": "Optimization weights & minibatch.ipynb",
   "provenance": []
  },
  "kernelspec": {
   "display_name": "Python 3",
   "language": "python",
   "name": "python3"
  },
  "language_info": {
   "codemirror_mode": {
    "name": "ipython",
    "version": 3
   },
   "file_extension": ".py",
   "mimetype": "text/x-python",
   "name": "python",
   "nbconvert_exporter": "python",
   "pygments_lexer": "ipython3",
   "version": "3.7.6"
  }
 },
 "nbformat": 4,
 "nbformat_minor": 1
}
