{
 "cells": [
  {
   "cell_type": "code",
   "execution_count": 34,
   "metadata": {},
   "outputs": [
    {
     "name": "stdout",
     "output_type": "stream",
     "text": [
      "size of the training dataset: (60000, 784)\n",
      "size of the testing dataset: (10000, 784)\n"
     ]
    }
   ],
   "source": [
    "from keras.datasets import mnist\n",
    "from keras.utils import np_utils\n",
    "from keras.utils.np_utils import to_categorical\n",
    "import pandas as pd\n",
    "from sklearn.metrics import confusion_matrix, f1_score\n",
    "\n",
    "from keras.models import Sequential\n",
    "from keras.layers import Activation, Dense\n",
    "from keras import optimizers\n",
    "from keras.layers import Flatten\n",
    "from keras.utils.np_utils import to_categorical\n",
    "from keras.layers import BatchNormalization, Dropout\n",
    "\n",
    "(train_features, train_targets), (test_features, test_targets) = mnist.load_data()\n",
    "\n",
    "train_features = train_features.reshape(60000, 784)\n",
    "print('size of the training dataset:', train_features.shape)\n",
    "test_features = test_features.reshape(10000, 784)\n",
    "print('size of the testing dataset:', test_features.shape)"
   ]
  },
  {
   "cell_type": "code",
   "execution_count": 4,
   "metadata": {},
   "outputs": [],
   "source": [
    "#Normalising the input data\n",
    "train_features = train_features / 255.0\n",
    "test_features = test_features / 255.0\n",
    "\n",
    "train_x = train_features\n",
    "train_y = train_targets\n",
    "\n",
    "test_x = test_features\n",
    "test_y = test_targets"
   ]
  },
  {
   "cell_type": "code",
   "execution_count": 9,
   "metadata": {},
   "outputs": [
    {
     "data": {
      "image/png": "[encoded data removed]",
      "text/plain": [
       "<Figure size 720x72 with 10 Axes>"
      ]
     },
     "metadata": {
      "needs_background": "light"
     },
     "output_type": "display_data"
    },
    {
     "name": "stdout",
     "output_type": "stream",
     "text": [
      "Corresponding labels for the images: [5 0 4 1 9 2 1 3 1 4]\n"
     ]
    }
   ],
   "source": [
    "# visualizing the first 10 images in the dataset and their labels\n",
    "%matplotlib inline\n",
    "import matplotlib.pyplot as plt\n",
    "plt.figure(figsize=(10, 1))\n",
    "for i in range(10):\n",
    "    plt.subplot(1, 10, i+1)\n",
    "    plt.imshow(train_x[i].reshape(28, 28))\n",
    "    plt.axis('off')\n",
    "plt.show()\n",
    "print('Corresponding labels for the images: %s' % (train_y[0:10]))"
   ]
  },
  {
   "cell_type": "code",
   "execution_count": 22,
   "metadata": {},
   "outputs": [
    {
     "name": "stdout",
     "output_type": "stream",
     "text": [
      "Before conversion: [5 0 4 1 9]\n",
      "\n",
      "After conversion:\n",
      " [[0. 0. 0. 0. 0. 0. 0. 1. 0. 0.]\n",
      " [0. 0. 1. 0. 0. 0. 0. 0. 0. 0.]\n",
      " [0. 1. 0. 0. 0. 0. 0. 0. 0. 0.]\n",
      " [1. 0. 0. 0. 0. 0. 0. 0. 0. 0.]\n",
      " [0. 0. 0. 0. 1. 0. 0. 0. 0. 0.]]\n"
     ]
    }
   ],
   "source": [
    "print('Before conversion:', train_y[:5])\n",
    "\n",
    "y_train = to_categorical(train_y)\n",
    "y_test = to_categorical(test_y)\n",
    "\n",
    "print('\\nAfter conversion:\\n', y_test[:5])"
   ]
  },
  {
   "cell_type": "code",
   "execution_count": 56,
   "metadata": {},
   "outputs": [],
   "source": [
    "accuracy_df = pd.DataFrame([], columns = [['train_score', 'test_score', 'test_F1_score']])"
   ]
  },
  {
   "cell_type": "markdown",
   "metadata": {},
   "source": [
    "#### Model1: A simple neural network with sigmoid in hidden layers."
   ]
  },
  {
   "cell_type": "code",
   "execution_count": 57,
   "metadata": {},
   "outputs": [],
   "source": [
    "model = Sequential()\n",
    "\n",
    "model.add(Dense(50, input_shape = (784, )))\n",
    "model.add(Activation('sigmoid'))\n",
    "model.add(Dense(50))\n",
    "model.add(Activation('sigmoid'))\n",
    "model.add(Dense(50))\n",
    "model.add(Activation('sigmoid'))\n",
    "model.add(Dense(50))\n",
    "model.add(Activation('sigmoid'))\n",
    "model.add(Dense(10))\n",
    "model.add(Activation('softmax'))\n",
    "\n",
    "sgd = optimizers.SGD(lr = 0.01)\n",
    "model.compile(optimizer = sgd, loss = 'categorical_crossentropy', metrics = ['accuracy'])\n",
    "\n",
    "model.fit(train_x, y_train, validation_data = (test_x, y_test), batch_size = 256, epochs = 30, verbose = 0)\n",
    "\n",
    "predict_y = model.predict(test_x)\n",
    "predict_value = predict_y.argmax(axis=1)\n",
    "actual_value = y_test.argmax(axis=1)"
   ]
  },
  {
   "cell_type": "code",
   "execution_count": 58,
   "metadata": {},
   "outputs": [],
   "source": [
    "accuracy_df.loc['simple_sigmoid', 'train_score'] = model.evaluate(train_x, y_train, verbose=0)[1]\n",
    "accuracy_df.loc['simple_sigmoid', 'test_score'] = model.evaluate(test_x, y_test, verbose=0)[1]\n",
    "accuracy_df.loc['simple_sigmoid', 'test_F1_score'] = f1_score(actual_value, predict_value, average='weighted')"
   ]
  },
  {
   "cell_type": "markdown",
   "metadata": {},
   "source": [
    "#### Model2: Enhancement done to weight initialization technique"
   ]
  },
  {
   "cell_type": "code",
   "execution_count": 59,
   "metadata": {},
   "outputs": [],
   "source": [
    "def mlp_model():\n",
    "    model = Sequential()\n",
    "    \n",
    "    model.add(Dense(50, input_shape = (784, ), kernel_initializer='he_normal'))     # use he_normal initializer\n",
    "    model.add(Activation('sigmoid'))    \n",
    "    model.add(Dense(50, kernel_initializer='he_normal'))                            # use he_normal initializer\n",
    "    model.add(Activation('sigmoid'))    \n",
    "    model.add(Dense(50, kernel_initializer='he_normal'))                            # use he_normal initializer\n",
    "    model.add(Activation('sigmoid'))    \n",
    "    model.add(Dense(50, kernel_initializer='he_normal'))                            # use he_normal initializer\n",
    "    model.add(Activation('sigmoid'))    \n",
    "    model.add(Dense(10, kernel_initializer='he_normal'))                            # use he_normal initializer\n",
    "    model.add(Activation('softmax'))\n",
    "    \n",
    "    sgd = optimizers.SGD(lr = 0.001)\n",
    "    model.compile(optimizer = sgd, loss = 'categorical_crossentropy', metrics = ['accuracy'])\n",
    "    \n",
    "    return model"
   ]
  },
  {
   "cell_type": "code",
   "execution_count": 62,
   "metadata": {},
   "outputs": [],
   "source": [
    "model = mlp_model()\n",
    "\n",
    "model.fit(train_x, y_train, validation_data = (test_x, y_test), batch_size = 256, epochs = 30, verbose = 0)\n",
    "\n",
    "predict_y = model.predict(test_x)\n",
    "predict_value = predict_y.argmax(axis=1)\n",
    "actual_value = y_test.argmax(axis=1)\n",
    "\n",
    "accuracy_df.loc['sigmoid_weight_imp', 'train_score'] = model.evaluate(train_x, y_train, verbose=0)[1]\n",
    "accuracy_df.loc['sigmoid_weight_imp', 'test_score'] = model.evaluate(test_x, y_test, verbose=0)[1]\n",
    "accuracy_df.loc['sigmoid_weight_imp', 'test_F1_score'] = f1_score(actual_value, predict_value, average='weighted')"
   ]
  },
  {
   "cell_type": "code",
   "execution_count": 61,
   "metadata": {},
   "outputs": [
    {
     "data": {
      "text/html": [
       "<div>\n",
       "<style scoped>\n",
       "    .dataframe tbody tr th:only-of-type {\n",
       "        vertical-align: middle;\n",
       "    }\n",
       "\n",
       "    .dataframe tbody tr th {\n",
       "        vertical-align: top;\n",
       "    }\n",
       "\n",
       "    .dataframe thead tr th {\n",
       "        text-align: left;\n",
       "    }\n",
       "</style>\n",
       "<table border=\"1\" class=\"dataframe\">\n",
       "  <thead>\n",
       "    <tr>\n",
       "      <th></th>\n",
       "      <th>train_score</th>\n",
       "      <th>test_score</th>\n",
       "      <th>test_F1_score</th>\n",
       "    </tr>\n",
       "  </thead>\n",
       "  <tbody>\n",
       "    <tr>\n",
       "      <th>simple_sigmoid</th>\n",
       "      <td>0.112367</td>\n",
       "      <td>0.1135</td>\n",
       "      <td>0.0231383</td>\n",
       "    </tr>\n",
       "    <tr>\n",
       "      <th>sigmoid_weight_imp</th>\n",
       "      <td>0.112367</td>\n",
       "      <td>0.1135</td>\n",
       "      <td>0.0231383</td>\n",
       "    </tr>\n",
       "  </tbody>\n",
       "</table>\n",
       "</div>"
      ],
      "text/plain": [
       "                   train_score test_score test_F1_score\n",
       "simple_sigmoid        0.112367     0.1135     0.0231383\n",
       "sigmoid_weight_imp    0.112367     0.1135     0.0231383"
      ]
     },
     "execution_count": 61,
     "metadata": {},
     "output_type": "execute_result"
    }
   ],
   "source": [
    "accuracy_df"
   ]
  },
  {
   "cell_type": "markdown",
   "metadata": {},
   "source": [
    "#### Model3 => using Non linear function ReLU.\n",
    "Since sigmoid and tanh suffer from vanishing gradient problem where there is no learning at higher positive and negative side"
   ]
  },
  {
   "cell_type": "code",
   "execution_count": 70,
   "metadata": {},
   "outputs": [],
   "source": [
    "def mlp_model():\n",
    "    model = Sequential()\n",
    "    \n",
    "    model.add(Dense(200, input_shape = (784, ), kernel_initializer='he_normal'))\n",
    "    model.add(Activation('relu'))    \n",
    "    model.add(Dense(200, kernel_initializer='he_normal'))\n",
    "    model.add(Activation('relu'))    \n",
    "    model.add(Dense(200, kernel_initializer='he_normal'))\n",
    "    model.add(Activation('relu'))    \n",
    "    model.add(Dense(200, kernel_initializer='he_normal'))\n",
    "    model.add(Activation('relu'))    \n",
    "    model.add(Dense(10))\n",
    "    model.add(Activation('softmax'))\n",
    "    \n",
    "    sgd = optimizers.SGD(lr = 0.001)\n",
    "    model.compile(optimizer = sgd, loss = 'categorical_crossentropy', metrics = ['accuracy'])\n",
    "    \n",
    "    return model"
   ]
  },
  {
   "cell_type": "code",
   "execution_count": 71,
   "metadata": {},
   "outputs": [],
   "source": [
    "model = mlp_model()\n",
    "\n",
    "model.fit(train_x, y_train, validation_data = (test_x, y_test), batch_size = 256, epochs = 30, verbose = 0)\n",
    "\n",
    "predict_y = model.predict(test_x)\n",
    "predict_value = predict_y.argmax(axis=1)\n",
    "actual_value = y_test.argmax(axis=1)\n",
    "\n",
    "accuracy_df.loc['simple_ReLU', 'train_score'] = model.evaluate(train_x, y_train, verbose=0)[1]\n",
    "accuracy_df.loc['simple_ReLU', 'test_score'] = model.evaluate(test_x, y_test, verbose=0)[1]\n",
    "accuracy_df.loc['simple_ReLU', 'test_F1_score'] = f1_score(actual_value, predict_value, average='weighted')"
   ]
  },
  {
   "cell_type": "code",
   "execution_count": 72,
   "metadata": {},
   "outputs": [
    {
     "data": {
      "text/html": [
       "<div>\n",
       "<style scoped>\n",
       "    .dataframe tbody tr th:only-of-type {\n",
       "        vertical-align: middle;\n",
       "    }\n",
       "\n",
       "    .dataframe tbody tr th {\n",
       "        vertical-align: top;\n",
       "    }\n",
       "\n",
       "    .dataframe thead tr th {\n",
       "        text-align: left;\n",
       "    }\n",
       "</style>\n",
       "<table border=\"1\" class=\"dataframe\">\n",
       "  <thead>\n",
       "    <tr>\n",
       "      <th></th>\n",
       "      <th>train_score</th>\n",
       "      <th>test_score</th>\n",
       "      <th>test_F1_score</th>\n",
       "    </tr>\n",
       "  </thead>\n",
       "  <tbody>\n",
       "    <tr>\n",
       "      <th>simple_sigmoid</th>\n",
       "      <td>0.112367</td>\n",
       "      <td>0.1135</td>\n",
       "      <td>0.0231383</td>\n",
       "    </tr>\n",
       "    <tr>\n",
       "      <th>sigmoid_weight_imp</th>\n",
       "      <td>0.112367</td>\n",
       "      <td>0.1135</td>\n",
       "      <td>0.0231383</td>\n",
       "    </tr>\n",
       "    <tr>\n",
       "      <th>simple_ReLU</th>\n",
       "      <td>0.909467</td>\n",
       "      <td>0.9126</td>\n",
       "      <td>0.91234</td>\n",
       "    </tr>\n",
       "  </tbody>\n",
       "</table>\n",
       "</div>"
      ],
      "text/plain": [
       "                   train_score test_score test_F1_score\n",
       "simple_sigmoid        0.112367     0.1135     0.0231383\n",
       "sigmoid_weight_imp    0.112367     0.1135     0.0231383\n",
       "simple_ReLU           0.909467     0.9126       0.91234"
      ]
     },
     "execution_count": 72,
     "metadata": {},
     "output_type": "execute_result"
    }
   ],
   "source": [
    "accuracy_df"
   ]
  },
  {
   "cell_type": "markdown",
   "metadata": {},
   "source": [
    "#### Model4 => using Non linear function ReLU with batch normalization and adam optimizer"
   ]
  },
  {
   "cell_type": "code",
   "execution_count": 74,
   "metadata": {},
   "outputs": [],
   "source": [
    "def mlp_model():\n",
    "    model = Sequential()\n",
    "    \n",
    "    model.add(Dense(200, input_shape = (784, ), kernel_initializer='he_normal'))\n",
    "    model.add(BatchNormalization())\n",
    "    model.add(Activation('relu'))\n",
    "    model.add(Dense(200, kernel_initializer='he_normal'))\n",
    "    model.add(BatchNormalization())\n",
    "    model.add(Activation('relu')) \n",
    "    model.add(Dense(200, kernel_initializer='he_normal'))\n",
    "    model.add(BatchNormalization())\n",
    "    model.add(Activation('relu'))\n",
    "    model.add(Dense(200, kernel_initializer='he_normal'))\n",
    "    model.add(BatchNormalization())\n",
    "    model.add(Activation('relu'))          \n",
    "    model.add(Dense(10, kernel_initializer='he_normal'))\n",
    "    model.add(Activation('softmax'))\n",
    "    \n",
    "    adam = optimizers.Adam(lr = 0.001)\n",
    "    model.compile(optimizer = adam, loss = 'categorical_crossentropy', metrics = ['accuracy'])\n",
    "    \n",
    "    return model"
   ]
  },
  {
   "cell_type": "code",
   "execution_count": 75,
   "metadata": {},
   "outputs": [],
   "source": [
    "model = mlp_model()\n",
    "\n",
    "model.fit(train_x, y_train, validation_data = (test_x, y_test), batch_size = 256, epochs = 30, verbose = 0)\n",
    "\n",
    "predict_y = model.predict(test_x)\n",
    "predict_value = predict_y.argmax(axis=1)\n",
    "actual_value = y_test.argmax(axis=1)\n",
    "\n",
    "accuracy_df.loc['ReLU_Adam_norm', 'train_score'] = model.evaluate(train_x, y_train, verbose=0)[1]\n",
    "accuracy_df.loc['ReLU_Adam_norm', 'test_score'] = model.evaluate(test_x, y_test, verbose=0)[1]\n",
    "accuracy_df.loc['ReLU_Adam_norm', 'test_F1_score'] = f1_score(actual_value, predict_value, average='weighted')"
   ]
  },
  {
   "cell_type": "code",
   "execution_count": 76,
   "metadata": {},
   "outputs": [
    {
     "data": {
      "text/html": [
       "<div>\n",
       "<style scoped>\n",
       "    .dataframe tbody tr th:only-of-type {\n",
       "        vertical-align: middle;\n",
       "    }\n",
       "\n",
       "    .dataframe tbody tr th {\n",
       "        vertical-align: top;\n",
       "    }\n",
       "\n",
       "    .dataframe thead tr th {\n",
       "        text-align: left;\n",
       "    }\n",
       "</style>\n",
       "<table border=\"1\" class=\"dataframe\">\n",
       "  <thead>\n",
       "    <tr>\n",
       "      <th></th>\n",
       "      <th>train_score</th>\n",
       "      <th>test_score</th>\n",
       "      <th>test_F1_score</th>\n",
       "    </tr>\n",
       "  </thead>\n",
       "  <tbody>\n",
       "    <tr>\n",
       "      <th>simple_sigmoid</th>\n",
       "      <td>0.112367</td>\n",
       "      <td>0.1135</td>\n",
       "      <td>0.0231383</td>\n",
       "    </tr>\n",
       "    <tr>\n",
       "      <th>sigmoid_weight_imp</th>\n",
       "      <td>0.112367</td>\n",
       "      <td>0.1135</td>\n",
       "      <td>0.0231383</td>\n",
       "    </tr>\n",
       "    <tr>\n",
       "      <th>simple_ReLU</th>\n",
       "      <td>0.909467</td>\n",
       "      <td>0.9126</td>\n",
       "      <td>0.91234</td>\n",
       "    </tr>\n",
       "    <tr>\n",
       "      <th>ReLU_Adam_norm</th>\n",
       "      <td>0.994017</td>\n",
       "      <td>0.9753</td>\n",
       "      <td>0.975293</td>\n",
       "    </tr>\n",
       "  </tbody>\n",
       "</table>\n",
       "</div>"
      ],
      "text/plain": [
       "                   train_score test_score test_F1_score\n",
       "simple_sigmoid        0.112367     0.1135     0.0231383\n",
       "sigmoid_weight_imp    0.112367     0.1135     0.0231383\n",
       "simple_ReLU           0.909467     0.9126       0.91234\n",
       "ReLU_Adam_norm        0.994017     0.9753      0.975293"
      ]
     },
     "execution_count": 76,
     "metadata": {},
     "output_type": "execute_result"
    }
   ],
   "source": [
    "accuracy_df"
   ]
  },
  {
   "cell_type": "code",
   "execution_count": null,
   "metadata": {},
   "outputs": [],
   "source": []
  }
 ],
 "metadata": {
  "kernelspec": {
   "display_name": "Python 3",
   "language": "python",
   "name": "python3"
  },
  "language_info": {
   "codemirror_mode": {
    "name": "ipython",
    "version": 3
   },
   "file_extension": ".py",
   "mimetype": "text/x-python",
   "name": "python",
   "nbconvert_exporter": "python",
   "pygments_lexer": "ipython3",
   "version": "3.7.6"
  }
 },
 "nbformat": 4,
 "nbformat_minor": 4
}
