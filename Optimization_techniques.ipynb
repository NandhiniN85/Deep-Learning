{
  "nbformat": 4,
  "nbformat_minor": 0,
  "metadata": {
    "colab": {
      "name": "Optimization techniques.ipynb",
      "provenance": [],
      "collapsed_sections": []
    },
    "kernelspec": {
      "name": "python3",
      "display_name": "Python 3"
    },
    "accelerator": "GPU"
  },
  "cells": [
    {
      "cell_type": "code",
      "metadata": {
        "id": "NetvIWn4F5YZ"
      },
      "source": [
        "from sklearn.datasets import load_iris\r\n",
        "import pandas as pd\r\n",
        "import numpy as np\r\n",
        "from sklearn.model_selection import train_test_split\r\n",
        "\r\n",
        "from keras.models import Sequential\r\n",
        "from keras.layers import Activation, Dense\r\n",
        "from keras import optimizers\r\n",
        "from keras.layers import Dropout"
      ],
      "execution_count": 153,
      "outputs": []
    },
    {
      "cell_type": "code",
      "metadata": {
        "id": "rnbqTKSIJ04r"
      },
      "source": [
        "iris = load_iris()"
      ],
      "execution_count": 114,
      "outputs": []
    },
    {
      "cell_type": "code",
      "metadata": {
        "colab": {
          "base_uri": "https://localhost:8080/"
        },
        "id": "dGBlwq_PJ284",
        "outputId": "a8c43de8-1cd3-4552-d76a-063ec463d71b"
      },
      "source": [
        "iris.keys()"
      ],
      "execution_count": 115,
      "outputs": [
        {
          "output_type": "execute_result",
          "data": {
            "text/plain": [
              "dict_keys(['data', 'target', 'target_names', 'DESCR', 'feature_names', 'filename'])"
            ]
          },
          "metadata": {
            "tags": []
          },
          "execution_count": 115
        }
      ]
    },
    {
      "cell_type": "code",
      "metadata": {
        "id": "YuDZvjhaJ4cj"
      },
      "source": [
        "data = pd.DataFrame(iris['data'], columns = iris['feature_names'] )\r\n",
        "target = pd.DataFrame(iris['target'],columns = ['target'])"
      ],
      "execution_count": 116,
      "outputs": []
    },
    {
      "cell_type": "code",
      "metadata": {
        "id": "oRiRJJWxKA0_"
      },
      "source": [
        "#combine the input predictors and target so that it can be split into training and testing\r\n",
        "data_target = data.join(target)"
      ],
      "execution_count": 117,
      "outputs": []
    },
    {
      "cell_type": "code",
      "metadata": {
        "colab": {
          "base_uri": "https://localhost:8080/",
          "height": 202
        },
        "id": "ne9lk8_xKCP2",
        "outputId": "64004d04-b548-4726-a321-7fdc4d592709"
      },
      "source": [
        "data_target.head()"
      ],
      "execution_count": 118,
      "outputs": [
        {
          "output_type": "execute_result",
          "data": {
            "text/html": [
              "<div>\n",
              "<style scoped>\n",
              "    .dataframe tbody tr th:only-of-type {\n",
              "        vertical-align: middle;\n",
              "    }\n",
              "\n",
              "    .dataframe tbody tr th {\n",
              "        vertical-align: top;\n",
              "    }\n",
              "\n",
              "    .dataframe thead th {\n",
              "        text-align: right;\n",
              "    }\n",
              "</style>\n",
              "<table border=\"1\" class=\"dataframe\">\n",
              "  <thead>\n",
              "    <tr style=\"text-align: right;\">\n",
              "      <th></th>\n",
              "      <th>sepal length (cm)</th>\n",
              "      <th>sepal width (cm)</th>\n",
              "      <th>petal length (cm)</th>\n",
              "      <th>petal width (cm)</th>\n",
              "      <th>target</th>\n",
              "    </tr>\n",
              "  </thead>\n",
              "  <tbody>\n",
              "    <tr>\n",
              "      <th>0</th>\n",
              "      <td>5.1</td>\n",
              "      <td>3.5</td>\n",
              "      <td>1.4</td>\n",
              "      <td>0.2</td>\n",
              "      <td>0</td>\n",
              "    </tr>\n",
              "    <tr>\n",
              "      <th>1</th>\n",
              "      <td>4.9</td>\n",
              "      <td>3.0</td>\n",
              "      <td>1.4</td>\n",
              "      <td>0.2</td>\n",
              "      <td>0</td>\n",
              "    </tr>\n",
              "    <tr>\n",
              "      <th>2</th>\n",
              "      <td>4.7</td>\n",
              "      <td>3.2</td>\n",
              "      <td>1.3</td>\n",
              "      <td>0.2</td>\n",
              "      <td>0</td>\n",
              "    </tr>\n",
              "    <tr>\n",
              "      <th>3</th>\n",
              "      <td>4.6</td>\n",
              "      <td>3.1</td>\n",
              "      <td>1.5</td>\n",
              "      <td>0.2</td>\n",
              "      <td>0</td>\n",
              "    </tr>\n",
              "    <tr>\n",
              "      <th>4</th>\n",
              "      <td>5.0</td>\n",
              "      <td>3.6</td>\n",
              "      <td>1.4</td>\n",
              "      <td>0.2</td>\n",
              "      <td>0</td>\n",
              "    </tr>\n",
              "  </tbody>\n",
              "</table>\n",
              "</div>"
            ],
            "text/plain": [
              "   sepal length (cm)  sepal width (cm)  ...  petal width (cm)  target\n",
              "0                5.1               3.5  ...               0.2       0\n",
              "1                4.9               3.0  ...               0.2       0\n",
              "2                4.7               3.2  ...               0.2       0\n",
              "3                4.6               3.1  ...               0.2       0\n",
              "4                5.0               3.6  ...               0.2       0\n",
              "\n",
              "[5 rows x 5 columns]"
            ]
          },
          "metadata": {
            "tags": []
          },
          "execution_count": 118
        }
      ]
    },
    {
      "cell_type": "code",
      "metadata": {
        "colab": {
          "base_uri": "https://localhost:8080/"
        },
        "id": "M_Oo-KXAKDkP",
        "outputId": "616c1d10-59a3-48f9-a84b-7e4d7241e97d"
      },
      "source": [
        "data_target['target'].value_counts()"
      ],
      "execution_count": 119,
      "outputs": [
        {
          "output_type": "execute_result",
          "data": {
            "text/plain": [
              "2    50\n",
              "1    50\n",
              "0    50\n",
              "Name: target, dtype: int64"
            ]
          },
          "metadata": {
            "tags": []
          },
          "execution_count": 119
        }
      ]
    },
    {
      "cell_type": "code",
      "metadata": {
        "id": "_437VFFmKGZy"
      },
      "source": [
        "#for this implementaion, let's make the problem a binary. So considering only '0' and '1' as the target\r\n",
        "X = np.array(data_target[(data_target['target'] == 0) | (data_target['target'] == 1)].drop('target', axis=1))\r\n",
        "y = np.array(data_target[(data_target['target'] == 0) | (data_target['target'] == 1)]['target']).reshape(100,1)"
      ],
      "execution_count": 120,
      "outputs": []
    },
    {
      "cell_type": "code",
      "metadata": {
        "colab": {
          "base_uri": "https://localhost:8080/"
        },
        "id": "RBJM3vydKLGI",
        "outputId": "19b6c281-92c1-465b-da6f-37db60455702"
      },
      "source": [
        "train_x,test_x,train_y,test_y = train_test_split(X,y,test_size = 0.2)\r\n",
        "\r\n",
        "print('Shape of train_x:', train_x.shape)\r\n",
        "print('Shape of train_y:', train_y.shape)\r\n",
        "print('Shape of test_x:', test_x.shape)\r\n",
        "print('Shape of test_y:', test_y.shape)"
      ],
      "execution_count": 121,
      "outputs": [
        {
          "output_type": "stream",
          "text": [
            "Shape of train_x: (80, 4)\n",
            "Shape of train_y: (80, 1)\n",
            "Shape of test_x: (20, 4)\n",
            "Shape of test_y: (20, 1)\n"
          ],
          "name": "stdout"
        }
      ]
    },
    {
      "cell_type": "markdown",
      "metadata": {
        "id": "hs-ZdRE5T4H1"
      },
      "source": [
        "Splitting the data into 9 mini batches"
      ]
    },
    {
      "cell_type": "code",
      "metadata": {
        "id": "30cZ3UUyT0zL"
      },
      "source": [
        "batches = 9\r\n",
        "\r\n",
        "#get the total number of batches\r\n",
        "batch_count = train_x.shape[0] // batches\r\n",
        "\r\n",
        "batch_trainx = []\r\n",
        "batch_trainy = []\r\n",
        "\r\n",
        "for i in range(0, batch_count):\r\n",
        "  begin = i * batches\r\n",
        "  end = (i + 1) * batches\r\n",
        "\r\n",
        "  batch_trainx.append(train_x[begin:end])\r\n",
        "  batch_trainy.append(train_y[begin:end])\r\n",
        "\r\n",
        "#when the total count is not exactly divisible by batches\r\n",
        "left_out = train_x.shape[0] % batches\r\n",
        "\r\n",
        "if left_out != 0:\r\n",
        "  batch_trainx.append(train_x[end: end + left_out])\r\n",
        "  batch_trainy.append(train_y[end: end + left_out])"
      ],
      "execution_count": 122,
      "outputs": []
    },
    {
      "cell_type": "code",
      "metadata": {
        "id": "23ZNy6PdKMj3"
      },
      "source": [
        "# intializing the weights for each layer\r\n",
        "def intialize_weights(layer_dims):\r\n",
        "    np.random.seed(3)\r\n",
        "    parameters = {}\r\n",
        "    L = len(layer_dims)\r\n",
        "    \r\n",
        "    #initialise the value of weights based on the number of layers\r\n",
        "    for i in range(1,L-1):\r\n",
        "        #for the hidden layers we will use He initialisation because of relu activation\r\n",
        "        parameters['W'+str(i)] = np.random.randn(layer_dims[i-1],layer_dims[i]) * np.sqrt(2/layer_dims[i-1])\r\n",
        "        parameters['b'+str(i)] = np.zeros([1, layer_dims[i]])   \r\n",
        "            \r\n",
        "    #for the last layer we can use Xavier initialisation \r\n",
        "    parameters['W' + str(i+1)] = np.random.randn(layer_dims[i],layer_dims[i+1]) * np.sqrt(1/layer_dims[i])\r\n",
        "    parameters['b'+str(i+1)] = np.zeros([1, layer_dims[i+1]])    \r\n",
        "    \r\n",
        "    return parameters"
      ],
      "execution_count": 123,
      "outputs": []
    },
    {
      "cell_type": "code",
      "metadata": {
        "id": "rrMdOuUFKPru"
      },
      "source": [
        "#forward propagation\r\n",
        "def forward_propagation(layer_dims,train_x,parameters, keep_probs,mode):\r\n",
        "    \r\n",
        "    caches = []\r\n",
        "    Aprev = train_x\r\n",
        "    L = len(layer_dims)\r\n",
        "    \r\n",
        "    #forward propagation for all the layers except last layer\r\n",
        "    for i in range(1,L-1): \r\n",
        "        W = parameters['W'+ str(i)]\r\n",
        "        b = parameters['b' + str(i)] \r\n",
        "        Z = np.dot(Aprev, W) + b  \r\n",
        "        Aprev = np.maximum(0,Z)   \r\n",
        "        if mode == 'train':\r\n",
        "          drop = np.random.rand(Aprev.shape[0],Aprev.shape[1])\r\n",
        "          drop = (drop < keep_probs).astype(int)\r\n",
        "          Aprev = np.multiply(Aprev, drop)\r\n",
        "          Aprev = np.divide(Aprev,keep_probs)     \r\n",
        "          cache = Aprev, W, b, drop\r\n",
        "          caches.append(cache)     \r\n",
        "        else:\r\n",
        "          cache = Aprev, W, b\r\n",
        "          caches.append(cache)\r\n",
        "    \r\n",
        "    #forward propagation for the last layer\r\n",
        "    W = parameters['W'+ str(L-1)]\r\n",
        "    b = parameters['b' + str(L-1)]\r\n",
        "    Zlast = np.dot(Aprev, W) + b    \r\n",
        "    Alast = 1/(1 + np.exp(-Zlast))   \r\n",
        "    if mode == 'train':      \r\n",
        "      drop = 0  #dummy value since in the last layer we do not have any dropout\r\n",
        "      cache = Alast, W, b, drop\r\n",
        "    else:\r\n",
        "      cache = Alast, W, b\r\n",
        "\r\n",
        "    caches.append(cache)\r\n",
        "    return caches"
      ],
      "execution_count": 140,
      "outputs": []
    },
    {
      "cell_type": "code",
      "metadata": {
        "id": "2XJ_H0gdKSiC"
      },
      "source": [
        "#cost function calculation\r\n",
        "def cost_calculate(predict_y,train_y):\r\n",
        "    m = train_y.shape[0]\r\n",
        "    cost = -(np.dot(train_y.T, np.log(predict_y)) + np.dot((1-train_y).T, np.log(1-predict_y)))/m\r\n",
        "    return cost"
      ],
      "execution_count": 141,
      "outputs": []
    },
    {
      "cell_type": "code",
      "metadata": {
        "id": "Qs_4agdOKUDp"
      },
      "source": [
        "def backward_propagation(layer_dims, caches, parameters, train_y, learning_rate):\r\n",
        "    #backward propagation for the last layer\r\n",
        "    #Extract the last array from the caches, as this corresponds to the final output\r\n",
        "    L = len(layer_dims)    \r\n",
        "    Acurr,Wcurr,bcurr,dcurr = caches[L - 2]  \r\n",
        "    Aprev,Wprev,bprev,dprev = caches[L - 3]\r\n",
        "    \r\n",
        "    m = train_y.shape[0]    \r\n",
        "    \r\n",
        "    dzprev = (Acurr - train_y)    \r\n",
        "    dwlast = np.dot(Aprev.T, dzprev)/m    \r\n",
        "    dblast = np.sum(dzprev, keepdims = True, axis = 0)/m        \r\n",
        "    parameters['W' + str(L-1)]= parameters['W' + str(L-1)] - (learning_rate * dwlast)    \r\n",
        "    parameters['b' + str(L-1)]= parameters['b' + str(L-1)] - (learning_rate * dblast)    \r\n",
        "        \r\n",
        "    for i in reversed(range(L-2)):\r\n",
        "        Anext,Wnext,bnext,dnext = caches[i+1]\r\n",
        "        Acurr,Wcurr,bcurr,dcurr = caches[i]  \r\n",
        "        if i == 0:\r\n",
        "            Aprev = train_x\r\n",
        "        else:            \r\n",
        "            Aprev,Wprev,bprev,dprev = caches[i-1]\r\n",
        "                \r\n",
        "        dzcurr = np.where(Acurr > 0,1,Acurr)             \r\n",
        "        da = np.dot(dzprev,Wnext.T)\r\n",
        "        da = da * dcurr\r\n",
        "        da = da / keep_probs\r\n",
        "        dzprev = np.multiply(da, dzcurr)\r\n",
        "        \r\n",
        "        dW = np.dot(Aprev.T,dzprev)/m\r\n",
        "        db = np.sum(dzprev, keepdims = True, axis = 0)/m  \r\n",
        "        parameters['W' + str(i+1)]= parameters['W' + str(i+1)] - (learning_rate * dW)\r\n",
        "        parameters['b' + str(i+1)]= parameters['b' + str(i+1)] - (learning_rate * db)     \r\n",
        "        return parameters"
      ],
      "execution_count": 147,
      "outputs": []
    },
    {
      "cell_type": "code",
      "metadata": {
        "id": "xTnYh6OoKWCR"
      },
      "source": [
        "def complete_model(layer_dims, train_x, train_y, learning_rate, iterations, keep_probs,mode):\r\n",
        "    \r\n",
        "    L = len(layer_dims)\r\n",
        "    # Intialize the weights\r\n",
        "    parameters = intialize_weights(layer_dims)\r\n",
        "    \r\n",
        "    for i in range(iterations):\r\n",
        "      for j in range(len(batch_trainx)):\r\n",
        "        #forward propagation\r\n",
        "        caches = forward_propagation(layer_dims,batch_trainx[j],parameters, keep_probs,mode)\r\n",
        "        \r\n",
        "        #calculate the cost \r\n",
        "        A,W,b,d = caches[-1]\r\n",
        "        cost = cost_calculate(A,batch_trainy[j])\r\n",
        "        if i%1000 == 0:\r\n",
        "            print('The cost after iteration {}: {}'.format(i, np.squeeze(cost)))\r\n",
        "                  \r\n",
        "        #backward propagation\r\n",
        "        parameters = backward_propagation(layer_dims, caches, parameters, batch_trainy[j], learning_rate)\r\n",
        "    return parameters"
      ],
      "execution_count": 143,
      "outputs": []
    },
    {
      "cell_type": "code",
      "metadata": {
        "colab": {
          "base_uri": "https://localhost:8080/"
        },
        "id": "XgJPiX1ZKYdC",
        "outputId": "d2a5394c-0a04-4008-e0b7-9d28779a1479"
      },
      "source": [
        "layer_dims = [4,5,3,1]\r\n",
        "learning_rate = 0.15\r\n",
        "iterations = 14900\r\n",
        "keep_probs = 0.8\r\n",
        "mode = 'train'\r\n",
        "parameters = complete_model(layer_dims, train_x, train_y, learning_rate, iterations, keep_probs, mode)"
      ],
      "execution_count": 144,
      "outputs": [
        {
          "output_type": "stream",
          "text": [
            "The cost after iteration 0: 0.7522831878182904\n",
            "The cost after iteration 0: 0.6585108248345981\n",
            "The cost after iteration 0: 0.43804564385972017\n",
            "The cost after iteration 0: 0.31757307213269453\n",
            "The cost after iteration 0: 0.8603093749658406\n",
            "The cost after iteration 0: 0.6287096739506934\n",
            "The cost after iteration 0: 0.8662410491814225\n",
            "The cost after iteration 0: 0.9053140580471664\n",
            "The cost after iteration 0: 0.5596619583020677\n",
            "The cost after iteration 1000: 0.6604974997014464\n",
            "The cost after iteration 1000: 0.7906566942646328\n",
            "The cost after iteration 1000: 0.710896799105365\n",
            "The cost after iteration 1000: 0.8941763334511647\n",
            "The cost after iteration 1000: 0.4521113491463764\n",
            "The cost after iteration 1000: 0.5214789379845669\n",
            "The cost after iteration 1000: 0.40745081008682144\n",
            "The cost after iteration 1000: 0.5280723409772821\n",
            "The cost after iteration 1000: 0.6070039223495167\n",
            "The cost after iteration 2000: 0.4964077922351091\n",
            "The cost after iteration 2000: 0.4866097808319927\n",
            "The cost after iteration 2000: 0.6252982225499422\n",
            "The cost after iteration 2000: 0.26881933110554596\n",
            "The cost after iteration 2000: 0.32015251187601845\n",
            "The cost after iteration 2000: 0.6509149230470774\n",
            "The cost after iteration 2000: 0.5636371522743363\n",
            "The cost after iteration 2000: 1.0321829642911573\n",
            "The cost after iteration 2000: 0.7691557362628441\n",
            "The cost after iteration 3000: 0.7535254003652911\n",
            "The cost after iteration 3000: 0.4055369605213746\n",
            "The cost after iteration 3000: 0.7319411262346294\n",
            "The cost after iteration 3000: 0.5001528308827022\n",
            "The cost after iteration 3000: 0.752819674553398\n",
            "The cost after iteration 3000: 0.5003946329170418\n",
            "The cost after iteration 3000: 0.5034218733303808\n",
            "The cost after iteration 3000: 0.7868638797923\n",
            "The cost after iteration 3000: 0.7386253665371971\n",
            "The cost after iteration 4000: 0.5703530699310784\n",
            "The cost after iteration 4000: 0.5516057420088587\n",
            "The cost after iteration 4000: 0.5322898276195589\n",
            "The cost after iteration 4000: 0.4643416087187588\n",
            "The cost after iteration 4000: 0.5757116614658085\n",
            "The cost after iteration 4000: 0.6294967427251724\n",
            "The cost after iteration 4000: 0.7209309430294962\n",
            "The cost after iteration 4000: 0.5754307076310509\n",
            "The cost after iteration 4000: 0.42999459023930336\n",
            "The cost after iteration 5000: 0.4542322410967189\n",
            "The cost after iteration 5000: 0.8242579293526204\n",
            "The cost after iteration 5000: 0.7180139274941959\n",
            "The cost after iteration 5000: 0.5852509938601408\n",
            "The cost after iteration 5000: 0.7021087593417117\n",
            "The cost after iteration 5000: 0.5436887638065317\n",
            "The cost after iteration 5000: 0.6220888068654925\n",
            "The cost after iteration 5000: 0.5621529351803038\n",
            "The cost after iteration 5000: 0.3736420186192977\n",
            "The cost after iteration 6000: 0.8528433570710452\n",
            "The cost after iteration 6000: 0.4910714984747205\n",
            "The cost after iteration 6000: 0.5165939904088194\n",
            "The cost after iteration 6000: 0.8569228828326676\n",
            "The cost after iteration 6000: 0.7674995485130549\n",
            "The cost after iteration 6000: 0.42895817738684056\n",
            "The cost after iteration 6000: 0.623754456820815\n",
            "The cost after iteration 6000: 0.5423841516098266\n",
            "The cost after iteration 6000: 0.40892076421311724\n",
            "The cost after iteration 7000: 0.7861880533202326\n",
            "The cost after iteration 7000: 0.6639996625934874\n",
            "The cost after iteration 7000: 0.922347237707993\n",
            "The cost after iteration 7000: 0.9645874526493144\n",
            "The cost after iteration 7000: 0.5540426183893017\n",
            "The cost after iteration 7000: 0.5793426338370433\n",
            "The cost after iteration 7000: 0.5792169759489739\n",
            "The cost after iteration 7000: 0.7107539745435923\n",
            "The cost after iteration 7000: 0.5098675645770189\n",
            "The cost after iteration 8000: 0.8751306477873789\n",
            "The cost after iteration 8000: 0.68133897064392\n",
            "The cost after iteration 8000: 0.3506333193379842\n",
            "The cost after iteration 8000: 0.6935148405606999\n",
            "The cost after iteration 8000: 0.39810007490331567\n",
            "The cost after iteration 8000: 0.3901134322731473\n",
            "The cost after iteration 8000: 0.6509847374497855\n",
            "The cost after iteration 8000: 0.6327053319083871\n",
            "The cost after iteration 8000: 0.4421874292867478\n",
            "The cost after iteration 9000: 0.5418748084181568\n",
            "The cost after iteration 9000: 0.4663508692950314\n",
            "The cost after iteration 9000: 0.3225883764048689\n",
            "The cost after iteration 9000: 0.6425304135510772\n",
            "The cost after iteration 9000: 0.28110625765255726\n",
            "The cost after iteration 9000: 0.3993253759225966\n",
            "The cost after iteration 9000: 0.6707694234058788\n",
            "The cost after iteration 9000: 0.832830638760441\n",
            "The cost after iteration 9000: 0.5391120909362311\n",
            "The cost after iteration 10000: 0.6695993928797395\n",
            "The cost after iteration 10000: 0.7502271147783971\n",
            "The cost after iteration 10000: 0.921514262327881\n",
            "The cost after iteration 10000: 0.2389433810090901\n",
            "The cost after iteration 10000: 0.7577292581858733\n",
            "The cost after iteration 10000: 0.6728957028341394\n",
            "The cost after iteration 10000: 0.46950051270818766\n",
            "The cost after iteration 10000: 0.4316605150734951\n",
            "The cost after iteration 10000: 0.478180830475316\n",
            "The cost after iteration 11000: 0.6058401930491448\n",
            "The cost after iteration 11000: 0.47085684262059196\n",
            "The cost after iteration 11000: 0.5719351123731935\n",
            "The cost after iteration 11000: 0.512330128622872\n",
            "The cost after iteration 11000: 0.5825224197007357\n",
            "The cost after iteration 11000: 0.28359720095429963\n",
            "The cost after iteration 11000: 0.5467542726998379\n",
            "The cost after iteration 11000: 0.5955209566458001\n",
            "The cost after iteration 11000: 0.6387368168613329\n",
            "The cost after iteration 12000: 0.5276069391400415\n",
            "The cost after iteration 12000: 0.22096814021014743\n",
            "The cost after iteration 12000: 0.6938527528698253\n",
            "The cost after iteration 12000: 0.486094626854787\n",
            "The cost after iteration 12000: 0.4352117626579735\n",
            "The cost after iteration 12000: 1.0540683132556063\n",
            "The cost after iteration 12000: 0.6749071023215557\n",
            "The cost after iteration 12000: 0.5707472539291302\n",
            "The cost after iteration 12000: 0.6580109150908452\n",
            "The cost after iteration 13000: 0.5591752022358676\n",
            "The cost after iteration 13000: 0.46071472763171656\n",
            "The cost after iteration 13000: 0.3684170943919389\n",
            "The cost after iteration 13000: 0.741979334849319\n",
            "The cost after iteration 13000: 0.5620247322337851\n",
            "The cost after iteration 13000: 0.6261757724528864\n",
            "The cost after iteration 13000: 0.6409547548974013\n",
            "The cost after iteration 13000: 0.5511223736388916\n",
            "The cost after iteration 13000: 0.46373516454521946\n",
            "The cost after iteration 14000: 0.6964663269852505\n",
            "The cost after iteration 14000: 0.5199929338394491\n",
            "The cost after iteration 14000: 0.6976999244327994\n",
            "The cost after iteration 14000: 0.7205781328300233\n",
            "The cost after iteration 14000: 0.538945414749131\n",
            "The cost after iteration 14000: 0.6537646521079179\n",
            "The cost after iteration 14000: 0.7023511573991948\n",
            "The cost after iteration 14000: 0.6669179730807101\n",
            "The cost after iteration 14000: 0.5042729369008272\n"
          ],
          "name": "stdout"
        }
      ]
    },
    {
      "cell_type": "code",
      "metadata": {
        "id": "Vt_L1YkqKalp"
      },
      "source": [
        "mode = 'test'\r\n",
        "predict = forward_propagation(layer_dims,test_x,parameters,keep_probs,mode)[-1][0]\r\n",
        "test_cost = cost_calculate(predict,test_y)"
      ],
      "execution_count": 145,
      "outputs": []
    },
    {
      "cell_type": "code",
      "metadata": {
        "colab": {
          "base_uri": "https://localhost:8080/"
        },
        "id": "Omv-4aHpKcdh",
        "outputId": "d8dd1c3d-fec8-45a9-cb00-63cf0e4b57f3"
      },
      "source": [
        "test_cost"
      ],
      "execution_count": 146,
      "outputs": [
        {
          "output_type": "execute_result",
          "data": {
            "text/plain": [
              "array([[0.44282985]])"
            ]
          },
          "metadata": {
            "tags": []
          },
          "execution_count": 146
        }
      ]
    },
    {
      "cell_type": "code",
      "metadata": {
        "id": "J0_lp6-3KdyM"
      },
      "source": [
        "model = Sequential()\r\n",
        "model.add(Dense(50, input_shape = (4, ),kernel_initializer='he_normal'))\r\n",
        "model.add(Activation('relu'))\r\n",
        "model.add(Dropout(0.2))\r\n",
        "model.add(Dense(50,kernel_initializer='he_normal'))\r\n",
        "model.add(Activation('relu'))\r\n",
        "model.add(Dropout(0.2))\r\n",
        "model.add(Dense(1,kernel_initializer='glorot_normal'))\r\n",
        "model.add(Activation('sigmoid'))"
      ],
      "execution_count": 157,
      "outputs": []
    },
    {
      "cell_type": "code",
      "metadata": {
        "id": "wkGdwpdeKfUe"
      },
      "source": [
        "sgd = optimizers.SGD(lr = 0.01)\r\n",
        "model.compile(loss = 'binary_crossentropy', metrics = ['accuracy'])"
      ],
      "execution_count": 158,
      "outputs": []
    },
    {
      "cell_type": "code",
      "metadata": {
        "colab": {
          "base_uri": "https://localhost:8080/"
        },
        "id": "7y01sZsRKqaZ",
        "outputId": "a3e7d88c-3381-4aa4-fa9e-ecc61e28a363"
      },
      "source": [
        "model.fit(train_x, train_y, validation_data = (test_x, test_y), epochs = 30)"
      ],
      "execution_count": 156,
      "outputs": [
        {
          "output_type": "stream",
          "text": [
            "Epoch 1/30\n",
            "3/3 [==============================] - 1s 126ms/step - loss: 3.0001 - accuracy: 0.5102 - val_loss: 2.0083 - val_accuracy: 0.4500\n",
            "Epoch 2/30\n",
            "3/3 [==============================] - 0s 16ms/step - loss: 1.7279 - accuracy: 0.5406 - val_loss: 1.0926 - val_accuracy: 0.4500\n",
            "Epoch 3/30\n",
            "3/3 [==============================] - 0s 17ms/step - loss: 1.2844 - accuracy: 0.5453 - val_loss: 0.5505 - val_accuracy: 0.5000\n",
            "Epoch 4/30\n",
            "3/3 [==============================] - 0s 21ms/step - loss: 0.6900 - accuracy: 0.6352 - val_loss: 0.3273 - val_accuracy: 1.0000\n",
            "Epoch 5/30\n",
            "3/3 [==============================] - 0s 15ms/step - loss: 0.5892 - accuracy: 0.6641 - val_loss: 0.2284 - val_accuracy: 1.0000\n",
            "Epoch 6/30\n",
            "3/3 [==============================] - 0s 15ms/step - loss: 0.4760 - accuracy: 0.7758 - val_loss: 0.1741 - val_accuracy: 1.0000\n",
            "Epoch 7/30\n",
            "3/3 [==============================] - 0s 15ms/step - loss: 0.3182 - accuracy: 0.9172 - val_loss: 0.1459 - val_accuracy: 1.0000\n",
            "Epoch 8/30\n",
            "3/3 [==============================] - 0s 14ms/step - loss: 0.3598 - accuracy: 0.8086 - val_loss: 0.1121 - val_accuracy: 1.0000\n",
            "Epoch 9/30\n",
            "3/3 [==============================] - 0s 14ms/step - loss: 0.2961 - accuracy: 0.8273 - val_loss: 0.0896 - val_accuracy: 1.0000\n",
            "Epoch 10/30\n",
            "3/3 [==============================] - 0s 17ms/step - loss: 0.2893 - accuracy: 0.8516 - val_loss: 0.0668 - val_accuracy: 1.0000\n",
            "Epoch 11/30\n",
            "3/3 [==============================] - 0s 15ms/step - loss: 0.2410 - accuracy: 0.8953 - val_loss: 0.0560 - val_accuracy: 1.0000\n",
            "Epoch 12/30\n",
            "3/3 [==============================] - 0s 15ms/step - loss: 0.1431 - accuracy: 0.9516 - val_loss: 0.0477 - val_accuracy: 1.0000\n",
            "Epoch 13/30\n",
            "3/3 [==============================] - 0s 15ms/step - loss: 0.1222 - accuracy: 0.9820 - val_loss: 0.0412 - val_accuracy: 1.0000\n",
            "Epoch 14/30\n",
            "3/3 [==============================] - 0s 17ms/step - loss: 0.1061 - accuracy: 0.9695 - val_loss: 0.0313 - val_accuracy: 1.0000\n",
            "Epoch 15/30\n",
            "3/3 [==============================] - 0s 14ms/step - loss: 0.1429 - accuracy: 0.9516 - val_loss: 0.0242 - val_accuracy: 1.0000\n",
            "Epoch 16/30\n",
            "3/3 [==============================] - 0s 16ms/step - loss: 0.0887 - accuracy: 0.9719 - val_loss: 0.0205 - val_accuracy: 1.0000\n",
            "Epoch 17/30\n",
            "3/3 [==============================] - 0s 17ms/step - loss: 0.0660 - accuracy: 0.9820 - val_loss: 0.0174 - val_accuracy: 1.0000\n",
            "Epoch 18/30\n",
            "3/3 [==============================] - 0s 15ms/step - loss: 0.0907 - accuracy: 0.9820 - val_loss: 0.0144 - val_accuracy: 1.0000\n",
            "Epoch 19/30\n",
            "3/3 [==============================] - 0s 16ms/step - loss: 0.0863 - accuracy: 0.9758 - val_loss: 0.0114 - val_accuracy: 1.0000\n",
            "Epoch 20/30\n",
            "3/3 [==============================] - 0s 15ms/step - loss: 0.0884 - accuracy: 0.9734 - val_loss: 0.0101 - val_accuracy: 1.0000\n",
            "Epoch 21/30\n",
            "3/3 [==============================] - 0s 14ms/step - loss: 0.0860 - accuracy: 0.9633 - val_loss: 0.0080 - val_accuracy: 1.0000\n",
            "Epoch 22/30\n",
            "3/3 [==============================] - 0s 14ms/step - loss: 0.0413 - accuracy: 0.9820 - val_loss: 0.0064 - val_accuracy: 1.0000\n",
            "Epoch 23/30\n",
            "3/3 [==============================] - 0s 15ms/step - loss: 0.0362 - accuracy: 1.0000 - val_loss: 0.0054 - val_accuracy: 1.0000\n",
            "Epoch 24/30\n",
            "3/3 [==============================] - 0s 14ms/step - loss: 0.0398 - accuracy: 1.0000 - val_loss: 0.0047 - val_accuracy: 1.0000\n",
            "Epoch 25/30\n",
            "3/3 [==============================] - 0s 15ms/step - loss: 0.0537 - accuracy: 0.9898 - val_loss: 0.0038 - val_accuracy: 1.0000\n",
            "Epoch 26/30\n",
            "3/3 [==============================] - 0s 15ms/step - loss: 0.0252 - accuracy: 1.0000 - val_loss: 0.0034 - val_accuracy: 1.0000\n",
            "Epoch 27/30\n",
            "3/3 [==============================] - 0s 15ms/step - loss: 0.0270 - accuracy: 1.0000 - val_loss: 0.0028 - val_accuracy: 1.0000\n",
            "Epoch 28/30\n",
            "3/3 [==============================] - 0s 16ms/step - loss: 0.0343 - accuracy: 1.0000 - val_loss: 0.0024 - val_accuracy: 1.0000\n",
            "Epoch 29/30\n",
            "3/3 [==============================] - 0s 15ms/step - loss: 0.0320 - accuracy: 0.9898 - val_loss: 0.0020 - val_accuracy: 1.0000\n",
            "Epoch 30/30\n",
            "3/3 [==============================] - 0s 18ms/step - loss: 0.0189 - accuracy: 1.0000 - val_loss: 0.0018 - val_accuracy: 1.0000\n"
          ],
          "name": "stdout"
        },
        {
          "output_type": "execute_result",
          "data": {
            "text/plain": [
              "<tensorflow.python.keras.callbacks.History at 0x7f9713041908>"
            ]
          },
          "metadata": {
            "tags": []
          },
          "execution_count": 156
        }
      ]
    },
    {
      "cell_type": "code",
      "metadata": {
        "id": "YxDreEFLKsPn"
      },
      "source": [
        ""
      ],
      "execution_count": null,
      "outputs": []
    }
  ]
}