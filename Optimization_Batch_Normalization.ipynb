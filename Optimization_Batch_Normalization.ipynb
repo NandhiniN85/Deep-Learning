{
  "nbformat": 4,
  "nbformat_minor": 0,
  "metadata": {
    "accelerator": "GPU",
    "colab": {
      "name": "Optimization-Batch Normalization.ipynb",
      "provenance": [],
      "collapsed_sections": []
    },
    "kernelspec": {
      "display_name": "Python 3",
      "language": "python",
      "name": "python3"
    },
    "language_info": {
      "codemirror_mode": {
        "name": "ipython",
        "version": 3
      },
      "file_extension": ".py",
      "mimetype": "text/x-python",
      "name": "python",
      "nbconvert_exporter": "python",
      "pygments_lexer": "ipython3",
      "version": "3.7.6"
    }
  },
  "cells": [
    {
      "cell_type": "code",
      "metadata": {
        "id": "tnWaNZiRJDom"
      },
      "source": [
        "from sklearn.datasets import load_iris\n",
        "import pandas as pd\n",
        "import numpy as np\n",
        "from sklearn.model_selection import train_test_split\n",
        "\n",
        "from keras.models import Sequential\n",
        "\n",
        "from keras.layers import Activation, Dense\n",
        "from keras import optimizers\n",
        "from keras.layers import Dropout"
      ],
      "execution_count": 1,
      "outputs": []
    },
    {
      "cell_type": "code",
      "metadata": {
        "id": "dO1VcmwDJKC_"
      },
      "source": [
        "iris = load_iris()"
      ],
      "execution_count": 2,
      "outputs": []
    },
    {
      "cell_type": "code",
      "metadata": {
        "colab": {
          "base_uri": "https://localhost:8080/"
        },
        "id": "_Habv7jaJM_v",
        "outputId": "97bb0412-63d8-42aa-9947-8c31bfe96103"
      },
      "source": [
        "iris.keys()"
      ],
      "execution_count": 3,
      "outputs": [
        {
          "output_type": "execute_result",
          "data": {
            "text/plain": [
              "dict_keys(['data', 'target', 'target_names', 'DESCR', 'feature_names', 'filename'])"
            ]
          },
          "metadata": {
            "tags": []
          },
          "execution_count": 3
        }
      ]
    },
    {
      "cell_type": "code",
      "metadata": {
        "id": "W5JiD4kIJRi7"
      },
      "source": [
        "data = pd.DataFrame(iris['data'], columns = iris['feature_names'] )\n",
        "target = pd.DataFrame(iris['target'],columns = ['target'])"
      ],
      "execution_count": 4,
      "outputs": []
    },
    {
      "cell_type": "code",
      "metadata": {
        "id": "HyASeuuWJTq2"
      },
      "source": [
        "#combine the input predictors and target so that it can be split into training and testing\n",
        "data_target = data.join(target)"
      ],
      "execution_count": 5,
      "outputs": []
    },
    {
      "cell_type": "code",
      "metadata": {
        "colab": {
          "base_uri": "https://localhost:8080/",
          "height": 202
        },
        "id": "sYYdmyWTJVtE",
        "outputId": "15e3a499-3241-4312-b694-9ec324fe0308"
      },
      "source": [
        "data_target.head()"
      ],
      "execution_count": 6,
      "outputs": [
        {
          "output_type": "execute_result",
          "data": {
            "text/html": [
              "<div>\n",
              "<style scoped>\n",
              "    .dataframe tbody tr th:only-of-type {\n",
              "        vertical-align: middle;\n",
              "    }\n",
              "\n",
              "    .dataframe tbody tr th {\n",
              "        vertical-align: top;\n",
              "    }\n",
              "\n",
              "    .dataframe thead th {\n",
              "        text-align: right;\n",
              "    }\n",
              "</style>\n",
              "<table border=\"1\" class=\"dataframe\">\n",
              "  <thead>\n",
              "    <tr style=\"text-align: right;\">\n",
              "      <th></th>\n",
              "      <th>sepal length (cm)</th>\n",
              "      <th>sepal width (cm)</th>\n",
              "      <th>petal length (cm)</th>\n",
              "      <th>petal width (cm)</th>\n",
              "      <th>target</th>\n",
              "    </tr>\n",
              "  </thead>\n",
              "  <tbody>\n",
              "    <tr>\n",
              "      <th>0</th>\n",
              "      <td>5.1</td>\n",
              "      <td>3.5</td>\n",
              "      <td>1.4</td>\n",
              "      <td>0.2</td>\n",
              "      <td>0</td>\n",
              "    </tr>\n",
              "    <tr>\n",
              "      <th>1</th>\n",
              "      <td>4.9</td>\n",
              "      <td>3.0</td>\n",
              "      <td>1.4</td>\n",
              "      <td>0.2</td>\n",
              "      <td>0</td>\n",
              "    </tr>\n",
              "    <tr>\n",
              "      <th>2</th>\n",
              "      <td>4.7</td>\n",
              "      <td>3.2</td>\n",
              "      <td>1.3</td>\n",
              "      <td>0.2</td>\n",
              "      <td>0</td>\n",
              "    </tr>\n",
              "    <tr>\n",
              "      <th>3</th>\n",
              "      <td>4.6</td>\n",
              "      <td>3.1</td>\n",
              "      <td>1.5</td>\n",
              "      <td>0.2</td>\n",
              "      <td>0</td>\n",
              "    </tr>\n",
              "    <tr>\n",
              "      <th>4</th>\n",
              "      <td>5.0</td>\n",
              "      <td>3.6</td>\n",
              "      <td>1.4</td>\n",
              "      <td>0.2</td>\n",
              "      <td>0</td>\n",
              "    </tr>\n",
              "  </tbody>\n",
              "</table>\n",
              "</div>"
            ],
            "text/plain": [
              "   sepal length (cm)  sepal width (cm)  ...  petal width (cm)  target\n",
              "0                5.1               3.5  ...               0.2       0\n",
              "1                4.9               3.0  ...               0.2       0\n",
              "2                4.7               3.2  ...               0.2       0\n",
              "3                4.6               3.1  ...               0.2       0\n",
              "4                5.0               3.6  ...               0.2       0\n",
              "\n",
              "[5 rows x 5 columns]"
            ]
          },
          "metadata": {
            "tags": []
          },
          "execution_count": 6
        }
      ]
    },
    {
      "cell_type": "code",
      "metadata": {
        "colab": {
          "base_uri": "https://localhost:8080/"
        },
        "id": "VcK2hT91JXAs",
        "outputId": "47abbf58-a2bb-4f36-bb88-ae8de78e1057"
      },
      "source": [
        "data_target['target'].value_counts()"
      ],
      "execution_count": 7,
      "outputs": [
        {
          "output_type": "execute_result",
          "data": {
            "text/plain": [
              "2    50\n",
              "1    50\n",
              "0    50\n",
              "Name: target, dtype: int64"
            ]
          },
          "metadata": {
            "tags": []
          },
          "execution_count": 7
        }
      ]
    },
    {
      "cell_type": "code",
      "metadata": {
        "id": "36ErKb9LJYj_"
      },
      "source": [
        "#for this implementaion, let's make the problem a binary. So considering only '0' and '1' as the target\n",
        "X = np.array(data_target[(data_target['target'] == 0) | (data_target['target'] == 1)].drop('target', axis=1))\n",
        "y = np.array(data_target[(data_target['target'] == 0) | (data_target['target'] == 1)]['target']).reshape(100,1)"
      ],
      "execution_count": 8,
      "outputs": []
    },
    {
      "cell_type": "code",
      "metadata": {
        "colab": {
          "base_uri": "https://localhost:8080/"
        },
        "id": "cZgUoce-Jaeh",
        "outputId": "a896f3ce-b245-4255-8578-d699ff38d2c0"
      },
      "source": [
        "train_x,test_x,train_y,test_y = train_test_split(X,y,test_size = 0.2)\n",
        "\n",
        "print('Shape of train_x:', train_x.shape)\n",
        "print('Shape of train_y:', train_y.shape)\n",
        "print('Shape of test_x:', test_x.shape)\n",
        "print('Shape of test_y:', test_y.shape)"
      ],
      "execution_count": 9,
      "outputs": [
        {
          "output_type": "stream",
          "text": [
            "Shape of train_x: (80, 4)\n",
            "Shape of train_y: (80, 1)\n",
            "Shape of test_x: (20, 4)\n",
            "Shape of test_y: (20, 1)\n"
          ],
          "name": "stdout"
        }
      ]
    },
    {
      "cell_type": "markdown",
      "metadata": {
        "id": "VBVKIcDKJgwN"
      },
      "source": [
        "Splitting the data into 9 mini batches"
      ]
    },
    {
      "cell_type": "code",
      "metadata": {
        "id": "Ks9WaZ_6JeT7"
      },
      "source": [
        "batches = 9\n",
        "\n",
        "#get the total number of batches\n",
        "batch_count = train_x.shape[0] // batches\n",
        "\n",
        "batch_trainx = []\n",
        "batch_trainy = []\n",
        "\n",
        "for i in range(0, batch_count):\n",
        "  begin = i * batches\n",
        "  end = (i + 1) * batches\n",
        "\n",
        "  batch_trainx.append(train_x[begin:end])\n",
        "  batch_trainy.append(train_y[begin:end])\n",
        "\n",
        "#when the total count is not exactly divisible by batches\n",
        "left_out = train_x.shape[0] % batches\n",
        "\n",
        "if left_out != 0:\n",
        "  batch_trainx.append(train_x[end: end + left_out])\n",
        "  batch_trainy.append(train_y[end: end + left_out])"
      ],
      "execution_count": 10,
      "outputs": []
    },
    {
      "cell_type": "code",
      "metadata": {
        "id": "jTtmRF80Ji0y"
      },
      "source": [
        "# intializing the weights for each layer\n",
        "def intialize_weights(layer_dims):\n",
        "    np.random.seed(3)\n",
        "    parameters = {}\n",
        "    L = len(layer_dims)\n",
        "    \n",
        "    #initialise the value of weights based on the number of layers\n",
        "    for i in range(1,L-1):\n",
        "        #for the hidden layers we will use He initialisation because of relu activation\n",
        "        parameters['W'+str(i)] = np.random.randn(layer_dims[i-1],layer_dims[i]) * np.sqrt(2/layer_dims[i-1])\n",
        "        parameters['b'+str(i)] = np.zeros([1, layer_dims[i]])   \n",
        "        parameters['gamma'+str(i)] = np.ones([1, layer_dims[i]])   \n",
        "        parameters['beta'+str(i)] = np.zeros([1, layer_dims[i]])   \n",
        "        parameters['mean'+str(i)] = 0 \n",
        "        parameters['var'+str(i)] = 0\n",
        "            \n",
        "    #for the last layer we can use Xavier initialisation \n",
        "    parameters['W' + str(i+1)] = np.random.randn(layer_dims[i],layer_dims[i+1]) * np.sqrt(1/layer_dims[i])\n",
        "    parameters['b'+str(i+1)] = np.zeros([1, layer_dims[i+1]])    \n",
        "    parameters['gamma'+str(i+1)] = np.ones([1, layer_dims[i+1]])\n",
        "    parameters['beta'+str(i+1)] = np.zeros([1, layer_dims[i+1]])\n",
        "    parameters['mean'+str(i+1)] = 0\n",
        "    parameters['var'+str(i+1)] = 0\n",
        "    \n",
        "    return parameters"
      ],
      "execution_count": 31,
      "outputs": []
    },
    {
      "cell_type": "code",
      "metadata": {
        "id": "LzhbJjLSJmH3"
      },
      "source": [
        "#forward propagation\n",
        "def forward_propagation(layer_dims,train_x,parameters, keep_probs, mode, momentum, running_mean, running_var):\n",
        "    \n",
        "    caches = []\n",
        "    Aprev = train_x\n",
        "    L = len(layer_dims)\n",
        "    \n",
        "    #forward propagation for all the layers except last layer\n",
        "    for i in range(1,L-1): \n",
        "        W = parameters['W'+ str(i)]\n",
        "        b = parameters['b' + str(i)] \n",
        "        gamma = parameters['gamma' + str(i)]\n",
        "        beta = parameters['beta' + str(i)]\n",
        "        running_mean = parameters['mean' + str(i)]\n",
        "        running_var = parameters['var' + str(i)]\n",
        "\n",
        "        Z = np.dot(Aprev, W) + b  \n",
        "\n",
        "        if mode == 'train':          \n",
        "          mean = Z.mean(axis=0, keepdims=True)\n",
        "          var = Z.var(axis=0, keepdims=True)\n",
        "          std = np.sqrt(var + 1e-8)\n",
        "          Z_centered = (Z - mean)\n",
        "          Z_norm = Z_centered / std \n",
        "          output = (gamma * Z_norm) + beta\n",
        "\n",
        "          running_mean = (momentum * running_mean) + (1 - momentum) * mean\n",
        "          running_var = (momentum * running_var) + (1 - momentum) * var\n",
        "          parameters['mean' + str(i)] = running_mean\n",
        "          parameters['var' + str(i)] = running_var\n",
        "\n",
        "          Aprev = np.maximum(0,output)       \n",
        "          cache = Aprev, W, b,Z_norm, std, Z_centered\n",
        "\n",
        "        else:\n",
        "          Z_norm = (Z - running_mean) / np.sqrt(running_var + 1e-8)\n",
        "          output = (gamma * Z_norm) + beta\n",
        "\n",
        "          Aprev = np.maximum(0,output) \n",
        "          cache = Aprev, W, b\n",
        "        \n",
        "        caches.append(cache)     \n",
        "    \n",
        "    #forward propagation for the last layer\n",
        "    W = parameters['W'+ str(L-1)]\n",
        "    b = parameters['b' + str(L-1)]\n",
        "    gamma = parameters['gamma' + str(L-1)]\n",
        "    beta = parameters['beta' + str(L-1)]\n",
        "    running_mean = parameters['mean' + str(L-1)]\n",
        "    running_var = parameters['var' + str(L-1)]\n",
        "\n",
        "    Zlast = np.dot(Aprev, W) + b  \n",
        "    if mode == 'train':   \n",
        "      mean = Zlast.mean(axis=0, keepdims=True)\n",
        "      var = Zlast.var(axis=0, keepdims=True)\n",
        "      std = np.sqrt(var + 1e-8)\n",
        "      Z_centered = (Zlast - mean)\n",
        "      Z_norm = Z_centered / std \n",
        "      output = (gamma * Z_norm) + beta   \n",
        "\n",
        "      running_mean = (momentum * running_mean) + (1 - momentum) * mean\n",
        "      running_var = (momentum * running_var) + (1 - momentum) * var\n",
        "      parameters['mean' + str(L-1)] = running_mean\n",
        "      parameters['var' + str(L-1)] = running_var\n",
        "\n",
        "      Alast = 1/(1 + np.exp(-output))   \n",
        "      cache = Alast, W, b, Z_norm, std, Z_centered\n",
        "\n",
        "    else:\n",
        "      Z_norm = (Zlast - running_mean) / np.sqrt(running_var + 1e-8)\n",
        "      output = (gamma * Z_norm) + beta\n",
        "\n",
        "      Alast = 1/(1 + np.exp(-output)) \n",
        "      cache = Aprev, W, b\n",
        "\n",
        "    caches.append(cache)\n",
        "    return caches"
      ],
      "execution_count": 32,
      "outputs": []
    },
    {
      "cell_type": "code",
      "metadata": {
        "id": "rcFUq25KJ1tB"
      },
      "source": [
        "#cost function calculation\n",
        "def cost_calculate(predict_y,train_y):\n",
        "    m = train_y.shape[0]\n",
        "    cost = -(np.dot(train_y.T, np.log(predict_y)) + np.dot((1-train_y).T, np.log(1-predict_y)))/m\n",
        "    return cost"
      ],
      "execution_count": 33,
      "outputs": []
    },
    {
      "cell_type": "code",
      "metadata": {
        "id": "UwTeuomaJ6gK"
      },
      "source": [
        "def backward_propagation(layer_dims, caches, parameters, train_x, train_y, learning_rate):\n",
        "    #backward propagation for the last layer\n",
        "    #Extract the last array from the caches, as this corresponds to the final output\n",
        "    L = len(caches)    \n",
        "    Acurr,Wcurr,bcurr,Znorm_curr,std_curr,Zcenter_curr= caches[L - 1]  \n",
        "    Aprev,Wprev,bprev,Znorm_prev,std_prev,Zcenter_prev = caches[L - 2]\n",
        "\n",
        "    m = train_y.shape[0]   \n",
        "    \n",
        "    dzprev = (Acurr - train_y)    \n",
        "    dwlast = np.dot(Aprev.T, dzprev)/m    \n",
        "    dblast = np.sum(dzprev, keepdims = True, axis = 0)/m   \n",
        "    dgamma = (dzprev * Znorm_curr).sum(axis=0) \n",
        "    dbeta  = dzprev.sum(axis=0)\n",
        "    parameters['W' + str(L)]= parameters['W' + str(L)] - (learning_rate * dwlast)    \n",
        "    parameters['b' + str(L)]= parameters['b' + str(L)] - (learning_rate * dblast)\n",
        "    gamma = parameters['gamma' + str(L)]\n",
        "\n",
        "    parameters['gamma' + str(L)]= parameters['gamma' + str(L)] - (learning_rate * dgamma)    \n",
        "    parameters['beta' + str(L)]= parameters['beta' + str(L)] - (learning_rate * dbeta)      \n",
        "    \n",
        "    dZnorm = dzprev * gamma    \n",
        "    dZcentered = dZnorm / std_curr\n",
        "    dmean = -(dZcentered.sum(axis=0) + 2/m * Zcenter_curr.sum(axis=0))\n",
        "    dstd = (dZnorm * Zcenter_curr * -std_curr**(-2)).sum(axis=0)\n",
        "    dvar = dstd / 2 / std_curr\n",
        "    dzprev = dZcentered + (dmean + dvar * 2 * Zcenter_curr) / m\n",
        "            \n",
        "    for i in reversed(range(L-1)):\n",
        "        Anext,Wnext,bnext,Znorm_next,std_next,Zcenter_next = caches[i+1]\n",
        "        Acurr,Wcurr,bcurr,Znorm_curr,std_curr,Zcenter_curr = caches[i]  \n",
        "        if i == 0:\n",
        "            Aprev = train_x\n",
        "        else:            \n",
        "            Aprev,Wprev,bprev,Znorm_prev,std_prev,Zcenter_prev = caches[i-1]\n",
        "                \n",
        "        dzcurr = np.where(Acurr > 0,1,Acurr)                     \n",
        "        dzprev = np.multiply(np.dot(dzprev,Wnext.T), dzcurr)\n",
        "        \n",
        "        dW = np.dot(Aprev.T,dzprev)/m\n",
        "        db = np.sum(dzprev, keepdims = True, axis = 0)/m  \n",
        "        dgamma = (dzprev * Znorm_curr).sum(axis=0) \n",
        "        dbeta  = dzprev.sum(axis=0)\n",
        "        parameters['W' + str(i+1)]= parameters['W' + str(i+1)] - (learning_rate * dW)\n",
        "        parameters['b' + str(i+1)]= parameters['b' + str(i+1)] - (learning_rate * db)  \n",
        "        gamma = parameters['gamma' + str(i+1)]\n",
        "\n",
        "        parameters['gamma' + str(i+1)]= parameters['gamma' + str(i+1)] - (learning_rate * dgamma)    \n",
        "        parameters['beta' + str(i+1)]= parameters['beta' + str(i+1)] - (learning_rate * dbeta)  \n",
        "\n",
        "        dZnorm = dzprev * gamma    \n",
        "        dZcentered = dZnorm / std_curr\n",
        "        dmean = -(dZcentered.sum(axis=0) + 2/m * Zcenter_curr.sum(axis=0))\n",
        "        dstd = (dZnorm * Zcenter_curr * -std_curr**(-2)).sum(axis=0)\n",
        "        dvar = dstd / 2 / std_curr\n",
        "        dzprev = dZcentered + (dmean + dvar * 2 * Zcenter_curr) / m   \n",
        "\n",
        "    return parameters"
      ],
      "execution_count": 34,
      "outputs": []
    },
    {
      "cell_type": "code",
      "metadata": {
        "id": "0CdrK6ajKUCt"
      },
      "source": [
        "def complete_model(layer_dims, train_x, train_y, learning_rate, iterations, keep_probs,mode,momentum):\n",
        "    \n",
        "    L = len(layer_dims)\n",
        "    # Intialize the weights\n",
        "    parameters = intialize_weights(layer_dims)\n",
        "    running_mean=0\n",
        "    running_var = 0\n",
        "    \n",
        "    for i in range(iterations):\n",
        "      for j in range(len(batch_trainx)):\n",
        "        #forward propagation\n",
        "        caches = forward_propagation(layer_dims,batch_trainx[j],parameters, keep_probs,mode,momentum,running_mean, running_var)\n",
        "        \n",
        "        #calculate the cost \n",
        "        A,W,b,_,_,_ = caches[-1]\n",
        "        cost = cost_calculate(A,batch_trainy[j])\n",
        "        if i%1000 == 0:\n",
        "            print('The cost after iteration {}: {}'.format(i, np.squeeze(cost)))\n",
        "        #backward propagation\n",
        "        parameters = backward_propagation(layer_dims, caches, parameters,batch_trainx[j], batch_trainy[j], learning_rate)\n",
        "\n",
        "    return parameters"
      ],
      "execution_count": 37,
      "outputs": []
    },
    {
      "cell_type": "code",
      "metadata": {
        "colab": {
          "base_uri": "https://localhost:8080/"
        },
        "id": "mwC_7KL0KYe7",
        "outputId": "9a61b7e2-6ca5-40a2-e11f-8c0139c65bba"
      },
      "source": [
        "layer_dims = [4,5,3,1]\n",
        "learning_rate = 0.15\n",
        "iterations = 2000\n",
        "keep_probs = 0.8\n",
        "momentum = 0.9\n",
        "mode = 'train'\n",
        "parameters = complete_model(layer_dims, train_x, train_y, learning_rate, iterations, keep_probs, mode, momentum=0.9)"
      ],
      "execution_count": 41,
      "outputs": [
        {
          "output_type": "stream",
          "text": [
            "The cost after iteration 0: 1.2101867439489764\n",
            "The cost after iteration 0: 0.7520314867826491\n",
            "The cost after iteration 0: 0.5474389831384234\n",
            "The cost after iteration 0: 0.6688163750304513\n",
            "The cost after iteration 0: 0.4416965752526794\n",
            "The cost after iteration 0: 0.28954219535274184\n",
            "The cost after iteration 0: 0.23832935767689267\n",
            "The cost after iteration 0: 0.2821308861140581\n",
            "The cost after iteration 0: 0.15666508173759636\n",
            "The cost after iteration 1000: 9.259146607144412e-05\n",
            "The cost after iteration 1000: 1.3022761554795474e-05\n",
            "The cost after iteration 1000: 0.0007565095045377697\n",
            "The cost after iteration 1000: 5.7340811672004426e-05\n",
            "The cost after iteration 1000: 5.7813368250757745e-05\n",
            "The cost after iteration 1000: 1.296708644961703e-05\n",
            "The cost after iteration 1000: 5.93523245804709e-05\n",
            "The cost after iteration 1000: 0.0005729326734101812\n",
            "The cost after iteration 1000: 1.8026234726226896e-05\n"
          ],
          "name": "stdout"
        }
      ]
    },
    {
      "cell_type": "code",
      "metadata": {
        "id": "iThw7Fe6yrPi"
      },
      "source": [
        "from keras.models import Sequential\r\n",
        "from keras.layers import Activation, Dense\r\n",
        "from keras import optimizers\r\n",
        "from keras.layers import BatchNormalization, Dropout"
      ],
      "execution_count": 69,
      "outputs": []
    },
    {
      "cell_type": "code",
      "metadata": {
        "id": "jFeMOVznyeUz"
      },
      "source": [
        "model = Sequential()\r\n",
        "model.add(Dense(50, input_shape = (4, ),kernel_initializer='he_normal'))\r\n",
        "model.add(BatchNormalization())\r\n",
        "model.add(Activation('relu'))\r\n",
        "model.add(Dropout(0.2))\r\n",
        "model.add(Dense(50,kernel_initializer='he_normal'))\r\n",
        "model.add(BatchNormalization())\r\n",
        "model.add(Activation('relu'))\r\n",
        "model.add(Dropout(0.2))\r\n",
        "model.add(Dense(1,kernel_initializer='glorot_normal'))\r\n",
        "model.add(BatchNormalization())\r\n",
        "model.add(Activation('sigmoid'))"
      ],
      "execution_count": 70,
      "outputs": []
    },
    {
      "cell_type": "code",
      "metadata": {
        "id": "1W8qKziNzQel"
      },
      "source": [
        "sgd = optimizers.SGD(lr = 0.001)\r\n",
        "model.compile(optimizer = sgd, loss = 'binary_crossentropy', metrics = ['accuracy'])"
      ],
      "execution_count": 71,
      "outputs": []
    },
    {
      "cell_type": "code",
      "metadata": {
        "colab": {
          "base_uri": "https://localhost:8080/"
        },
        "id": "WuiRXwMMzuCt",
        "outputId": "6a71d2e9-34cf-40c5-8709-0ffad5df2341"
      },
      "source": [
        "model.fit(train_x, train_y, batch_size=9, validation_data=(test_x, test_y), epochs=50)"
      ],
      "execution_count": 72,
      "outputs": [
        {
          "output_type": "stream",
          "text": [
            "Epoch 1/50\n",
            "9/9 [==============================] - 1s 24ms/step - loss: 0.6208 - accuracy: 0.6450 - val_loss: 1.0688 - val_accuracy: 0.6000\n",
            "Epoch 2/50\n",
            "9/9 [==============================] - 0s 8ms/step - loss: 0.5194 - accuracy: 0.8087 - val_loss: 0.9277 - val_accuracy: 0.6000\n",
            "Epoch 3/50\n",
            "9/9 [==============================] - 0s 6ms/step - loss: 0.5977 - accuracy: 0.6365 - val_loss: 0.8045 - val_accuracy: 0.6000\n",
            "Epoch 4/50\n",
            "9/9 [==============================] - 0s 6ms/step - loss: 0.5520 - accuracy: 0.7916 - val_loss: 0.7138 - val_accuracy: 0.6000\n",
            "Epoch 5/50\n",
            "9/9 [==============================] - 0s 7ms/step - loss: 0.6006 - accuracy: 0.6675 - val_loss: 0.6682 - val_accuracy: 0.6000\n",
            "Epoch 6/50\n",
            "9/9 [==============================] - 0s 6ms/step - loss: 0.4700 - accuracy: 0.7934 - val_loss: 0.6399 - val_accuracy: 0.6000\n",
            "Epoch 7/50\n",
            "9/9 [==============================] - 0s 6ms/step - loss: 0.5123 - accuracy: 0.7882 - val_loss: 0.6153 - val_accuracy: 0.6000\n",
            "Epoch 8/50\n",
            "9/9 [==============================] - 0s 6ms/step - loss: 0.4864 - accuracy: 0.8495 - val_loss: 0.6002 - val_accuracy: 0.6000\n",
            "Epoch 9/50\n",
            "9/9 [==============================] - 0s 6ms/step - loss: 0.4833 - accuracy: 0.8013 - val_loss: 0.5826 - val_accuracy: 0.6000\n",
            "Epoch 10/50\n",
            "9/9 [==============================] - 0s 6ms/step - loss: 0.4604 - accuracy: 0.8263 - val_loss: 0.5684 - val_accuracy: 0.6000\n",
            "Epoch 11/50\n",
            "9/9 [==============================] - 0s 7ms/step - loss: 0.4179 - accuracy: 0.8808 - val_loss: 0.5594 - val_accuracy: 0.6000\n",
            "Epoch 12/50\n",
            "9/9 [==============================] - 0s 7ms/step - loss: 0.4097 - accuracy: 0.9155 - val_loss: 0.5534 - val_accuracy: 0.6500\n",
            "Epoch 13/50\n",
            "9/9 [==============================] - 0s 6ms/step - loss: 0.4626 - accuracy: 0.7886 - val_loss: 0.5524 - val_accuracy: 0.6500\n",
            "Epoch 14/50\n",
            "9/9 [==============================] - 0s 7ms/step - loss: 0.4405 - accuracy: 0.8550 - val_loss: 0.5524 - val_accuracy: 0.7000\n",
            "Epoch 15/50\n",
            "9/9 [==============================] - 0s 6ms/step - loss: 0.4623 - accuracy: 0.8529 - val_loss: 0.5535 - val_accuracy: 0.7500\n",
            "Epoch 16/50\n",
            "9/9 [==============================] - 0s 7ms/step - loss: 0.5124 - accuracy: 0.8157 - val_loss: 0.5517 - val_accuracy: 0.7500\n",
            "Epoch 17/50\n",
            "9/9 [==============================] - 0s 7ms/step - loss: 0.4275 - accuracy: 0.8345 - val_loss: 0.5445 - val_accuracy: 0.7500\n",
            "Epoch 18/50\n",
            "9/9 [==============================] - 0s 21ms/step - loss: 0.4382 - accuracy: 0.7640 - val_loss: 0.5436 - val_accuracy: 0.7500\n",
            "Epoch 19/50\n",
            "9/9 [==============================] - 0s 7ms/step - loss: 0.4638 - accuracy: 0.8677 - val_loss: 0.5375 - val_accuracy: 0.8500\n",
            "Epoch 20/50\n",
            "9/9 [==============================] - 0s 7ms/step - loss: 0.4139 - accuracy: 0.8514 - val_loss: 0.5353 - val_accuracy: 0.9000\n",
            "Epoch 21/50\n",
            "9/9 [==============================] - 0s 8ms/step - loss: 0.3768 - accuracy: 0.9584 - val_loss: 0.5320 - val_accuracy: 0.9000\n",
            "Epoch 22/50\n",
            "9/9 [==============================] - 0s 7ms/step - loss: 0.4988 - accuracy: 0.7782 - val_loss: 0.5198 - val_accuracy: 0.9000\n",
            "Epoch 23/50\n",
            "9/9 [==============================] - 0s 7ms/step - loss: 0.4316 - accuracy: 0.8334 - val_loss: 0.5098 - val_accuracy: 0.9000\n",
            "Epoch 24/50\n",
            "9/9 [==============================] - 0s 7ms/step - loss: 0.3969 - accuracy: 0.9279 - val_loss: 0.5025 - val_accuracy: 0.9000\n",
            "Epoch 25/50\n",
            "9/9 [==============================] - 0s 7ms/step - loss: 0.3960 - accuracy: 0.8906 - val_loss: 0.4951 - val_accuracy: 0.9000\n",
            "Epoch 26/50\n",
            "9/9 [==============================] - 0s 7ms/step - loss: 0.4458 - accuracy: 0.8757 - val_loss: 0.4827 - val_accuracy: 0.9000\n",
            "Epoch 27/50\n",
            "9/9 [==============================] - 0s 7ms/step - loss: 0.3918 - accuracy: 0.9287 - val_loss: 0.4743 - val_accuracy: 0.9500\n",
            "Epoch 28/50\n",
            "9/9 [==============================] - 0s 7ms/step - loss: 0.4042 - accuracy: 0.9389 - val_loss: 0.4673 - val_accuracy: 1.0000\n",
            "Epoch 29/50\n",
            "9/9 [==============================] - 0s 7ms/step - loss: 0.4006 - accuracy: 0.9197 - val_loss: 0.4631 - val_accuracy: 1.0000\n",
            "Epoch 30/50\n",
            "9/9 [==============================] - 0s 7ms/step - loss: 0.4094 - accuracy: 0.9129 - val_loss: 0.4591 - val_accuracy: 1.0000\n",
            "Epoch 31/50\n",
            "9/9 [==============================] - 0s 7ms/step - loss: 0.4734 - accuracy: 0.8411 - val_loss: 0.4488 - val_accuracy: 1.0000\n",
            "Epoch 32/50\n",
            "9/9 [==============================] - 0s 7ms/step - loss: 0.4235 - accuracy: 0.9157 - val_loss: 0.4460 - val_accuracy: 1.0000\n",
            "Epoch 33/50\n",
            "9/9 [==============================] - 0s 7ms/step - loss: 0.3927 - accuracy: 0.8964 - val_loss: 0.4371 - val_accuracy: 1.0000\n",
            "Epoch 34/50\n",
            "9/9 [==============================] - 0s 7ms/step - loss: 0.3944 - accuracy: 0.9128 - val_loss: 0.4336 - val_accuracy: 1.0000\n",
            "Epoch 35/50\n",
            "9/9 [==============================] - 0s 7ms/step - loss: 0.4253 - accuracy: 0.8919 - val_loss: 0.4236 - val_accuracy: 1.0000\n",
            "Epoch 36/50\n",
            "9/9 [==============================] - 0s 7ms/step - loss: 0.4301 - accuracy: 0.8971 - val_loss: 0.4182 - val_accuracy: 1.0000\n",
            "Epoch 37/50\n",
            "9/9 [==============================] - 0s 6ms/step - loss: 0.4043 - accuracy: 0.9075 - val_loss: 0.4107 - val_accuracy: 1.0000\n",
            "Epoch 38/50\n",
            "9/9 [==============================] - 0s 7ms/step - loss: 0.4066 - accuracy: 0.9169 - val_loss: 0.4085 - val_accuracy: 1.0000\n",
            "Epoch 39/50\n",
            "9/9 [==============================] - 0s 6ms/step - loss: 0.3919 - accuracy: 0.8959 - val_loss: 0.4050 - val_accuracy: 1.0000\n",
            "Epoch 40/50\n",
            "9/9 [==============================] - 0s 7ms/step - loss: 0.3999 - accuracy: 0.9347 - val_loss: 0.4016 - val_accuracy: 1.0000\n",
            "Epoch 41/50\n",
            "9/9 [==============================] - 0s 7ms/step - loss: 0.4005 - accuracy: 0.9058 - val_loss: 0.3996 - val_accuracy: 1.0000\n",
            "Epoch 42/50\n",
            "9/9 [==============================] - 0s 7ms/step - loss: 0.3946 - accuracy: 0.8777 - val_loss: 0.3938 - val_accuracy: 1.0000\n",
            "Epoch 43/50\n",
            "9/9 [==============================] - 0s 7ms/step - loss: 0.3497 - accuracy: 0.9831 - val_loss: 0.3916 - val_accuracy: 1.0000\n",
            "Epoch 44/50\n",
            "9/9 [==============================] - 0s 7ms/step - loss: 0.3776 - accuracy: 0.9461 - val_loss: 0.3854 - val_accuracy: 1.0000\n",
            "Epoch 45/50\n",
            "9/9 [==============================] - 0s 7ms/step - loss: 0.3856 - accuracy: 0.9600 - val_loss: 0.3817 - val_accuracy: 1.0000\n",
            "Epoch 46/50\n",
            "9/9 [==============================] - 0s 7ms/step - loss: 0.4508 - accuracy: 0.8329 - val_loss: 0.3743 - val_accuracy: 1.0000\n",
            "Epoch 47/50\n",
            "9/9 [==============================] - 0s 7ms/step - loss: 0.4128 - accuracy: 0.9160 - val_loss: 0.3698 - val_accuracy: 1.0000\n",
            "Epoch 48/50\n",
            "9/9 [==============================] - 0s 7ms/step - loss: 0.4014 - accuracy: 0.9227 - val_loss: 0.3630 - val_accuracy: 1.0000\n",
            "Epoch 49/50\n",
            "9/9 [==============================] - 0s 8ms/step - loss: 0.3636 - accuracy: 0.9686 - val_loss: 0.3613 - val_accuracy: 1.0000\n",
            "Epoch 50/50\n",
            "9/9 [==============================] - 0s 7ms/step - loss: 0.3965 - accuracy: 0.9099 - val_loss: 0.3585 - val_accuracy: 1.0000\n"
          ],
          "name": "stdout"
        },
        {
          "output_type": "execute_result",
          "data": {
            "text/plain": [
              "<tensorflow.python.keras.callbacks.History at 0x7f2ca4ed7b70>"
            ]
          },
          "metadata": {
            "tags": []
          },
          "execution_count": 72
        }
      ]
    },
    {
      "cell_type": "code",
      "metadata": {
        "id": "gYu9g1HBz81i"
      },
      "source": [
        ""
      ],
      "execution_count": null,
      "outputs": []
    }
  ]
}